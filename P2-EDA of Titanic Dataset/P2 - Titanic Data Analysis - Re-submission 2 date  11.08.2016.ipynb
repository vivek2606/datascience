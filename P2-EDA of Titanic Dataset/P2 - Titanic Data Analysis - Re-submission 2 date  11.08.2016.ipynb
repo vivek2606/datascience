{
 "cells": [
  {
   "cell_type": "markdown",
   "metadata": {},
   "source": [
    "# P2 - INVESTIGATE A DATASET\n",
    "\n",
    "As a Data Analysis Project we will do the data analysis on the Titanic Data orginally obtained from the Kaggle website.\n",
    "\n",
    "**Titanic Data** - Contains demographics and passenger information from 891 of the 2224 passengers and crew on board the Titanic. The variable description as per the Kaggle website is shown below. We will do data exploration, data munging and apply various statistical analysis and visualsation methods on the sample dataset  to tentatively predict the factors that _made people more likely to survive_.  \n",
    "\n",
    "In the process of data analysis and to predict the factors affecting the survival of the passengers, we will try to find the answers to the following questions through data exploration & visualisation menthods:\n",
    "\n",
    "### Questions:\n",
    "\n",
    "1. _** Were Age a factor effecting the rate of survival? ** _\n",
    "\n",
    "2. _** Did women and children have greater chance of survival irrespective of other factors i.e. Class or place of Embarkment? ** _\n",
    "\n",
    "3. _**Were the Socio-economic status (SES) a factor effecting the survival rate?**_\n",
    "\n",
    "4. _**Were the station of embarkment a factor effecting the survival rate?**_\n",
    "\n",
    "5. _**Were having family/relatives on board a factor effecting survival rates?**_\n"
   ]
  },
  {
   "cell_type": "markdown",
   "metadata": {},
   "source": [
    "###  VARIABLE DESCRIPTIONS:\n",
    "\n",
    "    + survival        Survival(0 = No; 1 = Yes)\n",
    "\n",
    "    + pclass          Passenger Class (1 = 1st; 2 = 2nd; 3 = 3rd)\n",
    "\n",
    "    + name            Name\n",
    "\n",
    "    + sex             Sex\n",
    "\n",
    "    + age             Age\n",
    "\n",
    "    + sibsp           Number of Siblings/Spouses Aboard\n",
    "\n",
    "    + parch           Number of Parents/Children Aboard\n",
    "\n",
    "    + ticket          Ticket Number\n",
    "\n",
    "    + fare            Passenger Fare\n",
    "\n",
    "    + cabin           Cabin\n",
    "\n",
    "    + embarked        Port of Embarkation (C = Cherbourg; Q = Queenstown; S = Southampton)\n",
    "\n",
    "### SPECIAL NOTES:\n",
    "\n",
    "**Pclass**  is a proxy for socio-economic status (SES)  1st ~ Upper; 2nd ~ Middle; 3rd ~ Lower\n",
    "\n",
    " **Age** is in Years; Fractional if Age less than One (1)\n",
    " If the Age is Estimated, it is in the form xx.5\n",
    "\n",
    "    With respect to the family relation variables (i.e. sibsp and parch)\n",
    "    some relations were ignored.  The following are the definitions used\n",
    "    for sibsp and parch.\n",
    "\n",
    "    Sibling:  Brother, Sister, Stepbrother, or Stepsister of Passenger Aboard Titanic\n",
    "    Spouse:   Husband or Wife of Passenger Aboard Titanic (Mistresses and Fiances Ignored)\n",
    "    Parent:   Mother or Father of Passenger Aboard Titanic\n",
    "    Child:    Son, Daughter, Stepson, or Stepdaughter of Passenger Aboard Titanic\n",
    "\n",
    "Other family relatives excluded from this study include cousins,nephews/nieces, aunts/uncles, and in-laws.  Some children travelled only with a nanny, therefore parch=0 for them.  As well, some travelled with very close friends or neighbors in a village, however,the definitions do not support such relations."
   ]
  },
  {
   "cell_type": "markdown",
   "metadata": {},
   "source": [
    "#### Importing useful libraries for Data Analysis"
   ]
  },
  {
   "cell_type": "code",
   "execution_count": 1,
   "metadata": {
    "collapsed": false,
    "scrolled": true
   },
   "outputs": [
    {
     "name": "stdout",
     "output_type": "stream",
     "text": [
      "Populating the interactive namespace from numpy and matplotlib\n"
     ]
    }
   ],
   "source": [
    "import numpy as np\n",
    "import pandas as pd\n",
    "import scipy.stats as sp\n",
    "%pylab inline\n",
    "import matplotlib.pyplot as plt\n",
    "import seaborn as sns"
   ]
  },
  {
   "cell_type": "markdown",
   "metadata": {},
   "source": [
    "## Data Wrangling & Exploration\n",
    "\n",
    " Importing the dataset as Pandas DataFrame Object."
   ]
  },
  {
   "cell_type": "code",
   "execution_count": 2,
   "metadata": {
    "collapsed": false
   },
   "outputs": [],
   "source": [
    "df = pd.read_csv(\"titanic_data.csv\")"
   ]
  },
  {
   "cell_type": "markdown",
   "metadata": {},
   "source": [
    "We will see the first few rows of data to get the basic details like index & column fields."
   ]
  },
  {
   "cell_type": "code",
   "execution_count": 3,
   "metadata": {
    "collapsed": false
   },
   "outputs": [
    {
     "data": {
      "text/html": [
       "<div>\n",
       "<table border=\"1\" class=\"dataframe\">\n",
       "  <thead>\n",
       "    <tr style=\"text-align: right;\">\n",
       "      <th></th>\n",
       "      <th>PassengerId</th>\n",
       "      <th>Survived</th>\n",
       "      <th>Pclass</th>\n",
       "      <th>Name</th>\n",
       "      <th>Sex</th>\n",
       "      <th>Age</th>\n",
       "      <th>SibSp</th>\n",
       "      <th>Parch</th>\n",
       "      <th>Ticket</th>\n",
       "      <th>Fare</th>\n",
       "      <th>Cabin</th>\n",
       "      <th>Embarked</th>\n",
       "    </tr>\n",
       "  </thead>\n",
       "  <tbody>\n",
       "    <tr>\n",
       "      <th>0</th>\n",
       "      <td>1</td>\n",
       "      <td>0</td>\n",
       "      <td>3</td>\n",
       "      <td>Braund, Mr. Owen Harris</td>\n",
       "      <td>male</td>\n",
       "      <td>22.0</td>\n",
       "      <td>1</td>\n",
       "      <td>0</td>\n",
       "      <td>A/5 21171</td>\n",
       "      <td>7.2500</td>\n",
       "      <td>NaN</td>\n",
       "      <td>S</td>\n",
       "    </tr>\n",
       "    <tr>\n",
       "      <th>1</th>\n",
       "      <td>2</td>\n",
       "      <td>1</td>\n",
       "      <td>1</td>\n",
       "      <td>Cumings, Mrs. John Bradley (Florence Briggs Th...</td>\n",
       "      <td>female</td>\n",
       "      <td>38.0</td>\n",
       "      <td>1</td>\n",
       "      <td>0</td>\n",
       "      <td>PC 17599</td>\n",
       "      <td>71.2833</td>\n",
       "      <td>C85</td>\n",
       "      <td>C</td>\n",
       "    </tr>\n",
       "    <tr>\n",
       "      <th>2</th>\n",
       "      <td>3</td>\n",
       "      <td>1</td>\n",
       "      <td>3</td>\n",
       "      <td>Heikkinen, Miss. Laina</td>\n",
       "      <td>female</td>\n",
       "      <td>26.0</td>\n",
       "      <td>0</td>\n",
       "      <td>0</td>\n",
       "      <td>STON/O2. 3101282</td>\n",
       "      <td>7.9250</td>\n",
       "      <td>NaN</td>\n",
       "      <td>S</td>\n",
       "    </tr>\n",
       "    <tr>\n",
       "      <th>3</th>\n",
       "      <td>4</td>\n",
       "      <td>1</td>\n",
       "      <td>1</td>\n",
       "      <td>Futrelle, Mrs. Jacques Heath (Lily May Peel)</td>\n",
       "      <td>female</td>\n",
       "      <td>35.0</td>\n",
       "      <td>1</td>\n",
       "      <td>0</td>\n",
       "      <td>113803</td>\n",
       "      <td>53.1000</td>\n",
       "      <td>C123</td>\n",
       "      <td>S</td>\n",
       "    </tr>\n",
       "    <tr>\n",
       "      <th>4</th>\n",
       "      <td>5</td>\n",
       "      <td>0</td>\n",
       "      <td>3</td>\n",
       "      <td>Allen, Mr. William Henry</td>\n",
       "      <td>male</td>\n",
       "      <td>35.0</td>\n",
       "      <td>0</td>\n",
       "      <td>0</td>\n",
       "      <td>373450</td>\n",
       "      <td>8.0500</td>\n",
       "      <td>NaN</td>\n",
       "      <td>S</td>\n",
       "    </tr>\n",
       "  </tbody>\n",
       "</table>\n",
       "</div>"
      ],
      "text/plain": [
       "   PassengerId  Survived  Pclass  \\\n",
       "0            1         0       3   \n",
       "1            2         1       1   \n",
       "2            3         1       3   \n",
       "3            4         1       1   \n",
       "4            5         0       3   \n",
       "\n",
       "                                                Name     Sex   Age  SibSp  \\\n",
       "0                            Braund, Mr. Owen Harris    male  22.0      1   \n",
       "1  Cumings, Mrs. John Bradley (Florence Briggs Th...  female  38.0      1   \n",
       "2                             Heikkinen, Miss. Laina  female  26.0      0   \n",
       "3       Futrelle, Mrs. Jacques Heath (Lily May Peel)  female  35.0      1   \n",
       "4                           Allen, Mr. William Henry    male  35.0      0   \n",
       "\n",
       "   Parch            Ticket     Fare Cabin Embarked  \n",
       "0      0         A/5 21171   7.2500   NaN        S  \n",
       "1      0          PC 17599  71.2833   C85        C  \n",
       "2      0  STON/O2. 3101282   7.9250   NaN        S  \n",
       "3      0            113803  53.1000  C123        S  \n",
       "4      0            373450   8.0500   NaN        S  "
      ]
     },
     "execution_count": 3,
     "metadata": {},
     "output_type": "execute_result"
    }
   ],
   "source": [
    "df.head()"
   ]
  },
  {
   "cell_type": "markdown",
   "metadata": {},
   "source": [
    "Lets find out the information about No. of entries in each field, missing values and type of variables in the dataset."
   ]
  },
  {
   "cell_type": "code",
   "execution_count": 4,
   "metadata": {
    "collapsed": false
   },
   "outputs": [
    {
     "name": "stdout",
     "output_type": "stream",
     "text": [
      "<class 'pandas.core.frame.DataFrame'>\n",
      "RangeIndex: 891 entries, 0 to 890\n",
      "Data columns (total 12 columns):\n",
      "PassengerId    891 non-null int64\n",
      "Survived       891 non-null int64\n",
      "Pclass         891 non-null int64\n",
      "Name           891 non-null object\n",
      "Sex            891 non-null object\n",
      "Age            714 non-null float64\n",
      "SibSp          891 non-null int64\n",
      "Parch          891 non-null int64\n",
      "Ticket         891 non-null object\n",
      "Fare           891 non-null float64\n",
      "Cabin          204 non-null object\n",
      "Embarked       889 non-null object\n",
      "dtypes: float64(2), int64(5), object(5)\n",
      "memory usage: 83.6+ KB\n"
     ]
    }
   ],
   "source": [
    "df.info() "
   ]
  },
  {
   "cell_type": "markdown",
   "metadata": {},
   "source": [
    "The above result states that There are total 891 passenger entries in the dataset. However there are only 714 entries in Age column, 204 entrie in Cabin & 889 entries in Embarked columns suggesting missing values in the data set."
   ]
  },
  {
   "cell_type": "markdown",
   "metadata": {},
   "source": [
    "#### There are two types of variable in our dataset:\n",
    "1. Categorical Variables: Pclass, Sex and Embarked\n",
    "2. Numeric Variables: Age, SibSp, Parch, Fare\n",
    "\n",
    "Lets find out some statistical data  about the dataset."
   ]
  },
  {
   "cell_type": "code",
   "execution_count": 5,
   "metadata": {
    "collapsed": false
   },
   "outputs": [
    {
     "data": {
      "text/html": [
       "<div>\n",
       "<table border=\"1\" class=\"dataframe\">\n",
       "  <thead>\n",
       "    <tr style=\"text-align: right;\">\n",
       "      <th></th>\n",
       "      <th>Survived</th>\n",
       "      <th>Pclass</th>\n",
       "      <th>Age</th>\n",
       "      <th>Fare</th>\n",
       "      <th>SibSp</th>\n",
       "      <th>Parch</th>\n",
       "      <th>Cabin</th>\n",
       "    </tr>\n",
       "  </thead>\n",
       "  <tbody>\n",
       "    <tr>\n",
       "      <th>count</th>\n",
       "      <td>891.000000</td>\n",
       "      <td>891.000000</td>\n",
       "      <td>714.000000</td>\n",
       "      <td>891.000000</td>\n",
       "      <td>891.000000</td>\n",
       "      <td>891.000000</td>\n",
       "      <td>204</td>\n",
       "    </tr>\n",
       "    <tr>\n",
       "      <th>unique</th>\n",
       "      <td>NaN</td>\n",
       "      <td>NaN</td>\n",
       "      <td>NaN</td>\n",
       "      <td>NaN</td>\n",
       "      <td>NaN</td>\n",
       "      <td>NaN</td>\n",
       "      <td>147</td>\n",
       "    </tr>\n",
       "    <tr>\n",
       "      <th>top</th>\n",
       "      <td>NaN</td>\n",
       "      <td>NaN</td>\n",
       "      <td>NaN</td>\n",
       "      <td>NaN</td>\n",
       "      <td>NaN</td>\n",
       "      <td>NaN</td>\n",
       "      <td>C23 C25 C27</td>\n",
       "    </tr>\n",
       "    <tr>\n",
       "      <th>freq</th>\n",
       "      <td>NaN</td>\n",
       "      <td>NaN</td>\n",
       "      <td>NaN</td>\n",
       "      <td>NaN</td>\n",
       "      <td>NaN</td>\n",
       "      <td>NaN</td>\n",
       "      <td>4</td>\n",
       "    </tr>\n",
       "    <tr>\n",
       "      <th>mean</th>\n",
       "      <td>0.383838</td>\n",
       "      <td>2.308642</td>\n",
       "      <td>29.699118</td>\n",
       "      <td>32.204208</td>\n",
       "      <td>0.523008</td>\n",
       "      <td>0.381594</td>\n",
       "      <td>NaN</td>\n",
       "    </tr>\n",
       "    <tr>\n",
       "      <th>std</th>\n",
       "      <td>0.486592</td>\n",
       "      <td>0.836071</td>\n",
       "      <td>14.526497</td>\n",
       "      <td>49.693429</td>\n",
       "      <td>1.102743</td>\n",
       "      <td>0.806057</td>\n",
       "      <td>NaN</td>\n",
       "    </tr>\n",
       "    <tr>\n",
       "      <th>min</th>\n",
       "      <td>0.000000</td>\n",
       "      <td>1.000000</td>\n",
       "      <td>0.420000</td>\n",
       "      <td>0.000000</td>\n",
       "      <td>0.000000</td>\n",
       "      <td>0.000000</td>\n",
       "      <td>NaN</td>\n",
       "    </tr>\n",
       "    <tr>\n",
       "      <th>25%</th>\n",
       "      <td>0.000000</td>\n",
       "      <td>2.000000</td>\n",
       "      <td>20.125000</td>\n",
       "      <td>7.910400</td>\n",
       "      <td>0.000000</td>\n",
       "      <td>0.000000</td>\n",
       "      <td>NaN</td>\n",
       "    </tr>\n",
       "    <tr>\n",
       "      <th>50%</th>\n",
       "      <td>0.000000</td>\n",
       "      <td>3.000000</td>\n",
       "      <td>28.000000</td>\n",
       "      <td>14.454200</td>\n",
       "      <td>0.000000</td>\n",
       "      <td>0.000000</td>\n",
       "      <td>NaN</td>\n",
       "    </tr>\n",
       "    <tr>\n",
       "      <th>75%</th>\n",
       "      <td>1.000000</td>\n",
       "      <td>3.000000</td>\n",
       "      <td>38.000000</td>\n",
       "      <td>31.000000</td>\n",
       "      <td>1.000000</td>\n",
       "      <td>0.000000</td>\n",
       "      <td>NaN</td>\n",
       "    </tr>\n",
       "    <tr>\n",
       "      <th>max</th>\n",
       "      <td>1.000000</td>\n",
       "      <td>3.000000</td>\n",
       "      <td>80.000000</td>\n",
       "      <td>512.329200</td>\n",
       "      <td>8.000000</td>\n",
       "      <td>6.000000</td>\n",
       "      <td>NaN</td>\n",
       "    </tr>\n",
       "  </tbody>\n",
       "</table>\n",
       "</div>"
      ],
      "text/plain": [
       "          Survived      Pclass         Age        Fare       SibSp  \\\n",
       "count   891.000000  891.000000  714.000000  891.000000  891.000000   \n",
       "unique         NaN         NaN         NaN         NaN         NaN   \n",
       "top            NaN         NaN         NaN         NaN         NaN   \n",
       "freq           NaN         NaN         NaN         NaN         NaN   \n",
       "mean      0.383838    2.308642   29.699118   32.204208    0.523008   \n",
       "std       0.486592    0.836071   14.526497   49.693429    1.102743   \n",
       "min       0.000000    1.000000    0.420000    0.000000    0.000000   \n",
       "25%       0.000000    2.000000   20.125000    7.910400    0.000000   \n",
       "50%       0.000000    3.000000   28.000000   14.454200    0.000000   \n",
       "75%       1.000000    3.000000   38.000000   31.000000    1.000000   \n",
       "max       1.000000    3.000000   80.000000  512.329200    8.000000   \n",
       "\n",
       "             Parch        Cabin  \n",
       "count   891.000000          204  \n",
       "unique         NaN          147  \n",
       "top            NaN  C23 C25 C27  \n",
       "freq           NaN            4  \n",
       "mean      0.381594          NaN  \n",
       "std       0.806057          NaN  \n",
       "min       0.000000          NaN  \n",
       "25%       0.000000          NaN  \n",
       "50%       0.000000          NaN  \n",
       "75%       0.000000          NaN  \n",
       "max       6.000000          NaN  "
      ]
     },
     "execution_count": 5,
     "metadata": {},
     "output_type": "execute_result"
    }
   ],
   "source": [
    "df[['Survived', 'Pclass', 'Age', 'Fare', 'SibSp', 'Parch','Cabin']].describe(include = 'all')"
   ]
  },
  {
   "cell_type": "markdown",
   "metadata": {},
   "source": [
    "The above test gives following information about the dataset:\n",
    "* The mean age of the passengers travelling was 29.7 and median age (i.e. 50%) is 28 with minimum age 0.42 and maximum age 80 years.\n",
    "* 38% of the passengers survived.\n",
    "* More than 50% of the Passengers in Data Set belongs to Pclass 3.\n",
    "* The fare seems to have values with 0 indicating possibility of some free tickets or data errors. On the other extreme, 512 seems a possible outlier / error.The mean fare was 32 Pounds whereas 75% passengers paid less than 32 Pounds. This suggest outlier data. The median fare was less than 15 Pounds.\n",
    "\n",
    "* 75% of the passengers with age listed were under the age of 38, and the mean age overall was 29.7.\n",
    "\n",
    "Notice that the mean is greater than the median.This is common for a distribution that is skewed to the right. \n",
    "\n",
    "Survived is just an integer variable that takes on the value 0 or 1 depending on whether a passenger died or survived respectively. Variables that indicate a state or the presence or absence of something with the numbers 0 and 1 are sometimes called indicator variables or dummy variables (0 indicates absence and 1 indicates presence.). Indicator variables are essentially just a shorthand for encoding a categorical variable with 2 levels. We could instead encode Survived as a categorical variable with more descriptive categories. However we will leave it as 0 & 1 for the ease of analysis & visualisation in seaborn.\n",
    "\n",
    "There's one more variable that has a questionable data encoding: Pclass. Pclass is an integer that indicates a passenger's class, with 1 being first class, 2 being second class and 3 being third class. Passenger class is a category, so it doesn't make a lot of sense to encode it as a numeric variable. What's more 1st class would be considered \"above\" or \"higher\" than second class, but when encoded as an integer, 1 comes before 2. We can fix this by transforming Pclass into an ordered categorical variable:\n",
    "\n",
    "Also Cabin and Ticket columns have many missing values(only 714 and 204 entries respectively) hence are not very useful for data analysis point of view. We will drop these columns. Further Name & PassengerId is also insignificant for data analysis perspective. Hence we will drop them also.    "
   ]
  },
  {
   "cell_type": "code",
   "execution_count": 6,
   "metadata": {
    "collapsed": true
   },
   "outputs": [],
   "source": [
    "new_Pclass = pd.Categorical(df[\"Pclass\"],\n",
    "                           ordered=True)\n",
    "\n",
    "new_Pclass = new_Pclass.rename_categories([\"Class1\",\"Class2\",\"Class3\"]) \n",
    "df['Pclass'] = new_Pclass"
   ]
  },
  {
   "cell_type": "code",
   "execution_count": 7,
   "metadata": {
    "collapsed": true
   },
   "outputs": [],
   "source": [
    "new_Sex = pd.Categorical(df[\"Sex\"],\n",
    "                           ordered=True)\n",
    "\n",
    "new_Sex = new_Sex.rename_categories([\"female\",\"male\"]) \n",
    "df['Sex'] = new_Sex"
   ]
  },
  {
   "cell_type": "code",
   "execution_count": 8,
   "metadata": {
    "collapsed": false
   },
   "outputs": [
    {
     "data": {
      "text/plain": [
       "PassengerId       int64\n",
       "Survived          int64\n",
       "Pclass         category\n",
       "Name             object\n",
       "Sex            category\n",
       "Age             float64\n",
       "SibSp             int64\n",
       "Parch             int64\n",
       "Ticket           object\n",
       "Fare            float64\n",
       "Cabin            object\n",
       "Embarked         object\n",
       "dtype: object"
      ]
     },
     "execution_count": 8,
     "metadata": {},
     "output_type": "execute_result"
    }
   ],
   "source": [
    "df.dtypes"
   ]
  },
  {
   "cell_type": "markdown",
   "metadata": {},
   "source": [
    "The above result confirms the change in datatype for Pclass & Sex."
   ]
  },
  {
   "cell_type": "markdown",
   "metadata": {},
   "source": [
    "We can get a summary of the categorical variables by passing only those columns through describe."
   ]
  },
  {
   "cell_type": "code",
   "execution_count": 9,
   "metadata": {
    "collapsed": false
   },
   "outputs": [
    {
     "name": "stdout",
     "output_type": "stream",
     "text": [
      "Index([u'Name', u'Ticket', u'Cabin', u'Embarked'], dtype='object')\n"
     ]
    },
    {
     "data": {
      "text/html": [
       "<div>\n",
       "<table border=\"1\" class=\"dataframe\">\n",
       "  <thead>\n",
       "    <tr style=\"text-align: right;\">\n",
       "      <th></th>\n",
       "      <th>Name</th>\n",
       "      <th>Ticket</th>\n",
       "      <th>Cabin</th>\n",
       "      <th>Embarked</th>\n",
       "    </tr>\n",
       "  </thead>\n",
       "  <tbody>\n",
       "    <tr>\n",
       "      <th>count</th>\n",
       "      <td>891</td>\n",
       "      <td>891</td>\n",
       "      <td>204</td>\n",
       "      <td>889</td>\n",
       "    </tr>\n",
       "    <tr>\n",
       "      <th>unique</th>\n",
       "      <td>891</td>\n",
       "      <td>681</td>\n",
       "      <td>147</td>\n",
       "      <td>3</td>\n",
       "    </tr>\n",
       "    <tr>\n",
       "      <th>top</th>\n",
       "      <td>Graham, Mr. George Edward</td>\n",
       "      <td>CA. 2343</td>\n",
       "      <td>C23 C25 C27</td>\n",
       "      <td>S</td>\n",
       "    </tr>\n",
       "    <tr>\n",
       "      <th>freq</th>\n",
       "      <td>1</td>\n",
       "      <td>7</td>\n",
       "      <td>4</td>\n",
       "      <td>644</td>\n",
       "    </tr>\n",
       "  </tbody>\n",
       "</table>\n",
       "</div>"
      ],
      "text/plain": [
       "                             Name    Ticket        Cabin Embarked\n",
       "count                         891       891          204      889\n",
       "unique                        891       681          147        3\n",
       "top     Graham, Mr. George Edward  CA. 2343  C23 C25 C27        S\n",
       "freq                            1         7            4      644"
      ]
     },
     "execution_count": 9,
     "metadata": {},
     "output_type": "execute_result"
    }
   ],
   "source": [
    "categorical = df.dtypes[df.dtypes == \"object\"].index\n",
    "print(categorical)\n",
    "\n",
    "df[categorical].describe()"
   ]
  },
  {
   "cell_type": "markdown",
   "metadata": {},
   "source": [
    "The categorical variable summary shows the count of non-NaN records, the number of unique categories, the most frequently occurring value and the number of occurrences of the most frequent value. First We will check for duplicate entries and will remove them before analysis process."
   ]
  },
  {
   "cell_type": "code",
   "execution_count": 10,
   "metadata": {
    "collapsed": false
   },
   "outputs": [
    {
     "name": "stdout",
     "output_type": "stream",
     "text": [
      "total No. of passengers onboard is 891\n"
     ]
    }
   ],
   "source": [
    "passenger_count = df['PassengerId'].value_counts()\n",
    "print 'total No. of passengers onboard is {}'.format(passenger_count.sum())"
   ]
  },
  {
   "cell_type": "markdown",
   "metadata": {},
   "source": [
    "This shows that there are 891 unique passengers in the dataset provided."
   ]
  },
  {
   "cell_type": "markdown",
   "metadata": {},
   "source": [
    "The Cabin & Ticket contains NA values and are not useful for statistical analysis purpose, also PassengerId and Name are also \n",
    "not useful for analysis purpose, hence we will drop them before further analysis."
   ]
  },
  {
   "cell_type": "code",
   "execution_count": 11,
   "metadata": {
    "collapsed": false
   },
   "outputs": [],
   "source": [
    "df=df.drop(['Cabin', 'Ticket', 'PassengerId', 'Name'], axis = 1)"
   ]
  },
  {
   "cell_type": "markdown",
   "metadata": {},
   "source": [
    "## Cleaning the NA values "
   ]
  },
  {
   "cell_type": "code",
   "execution_count": 12,
   "metadata": {
    "collapsed": false
   },
   "outputs": [
    {
     "name": "stdout",
     "output_type": "stream",
     "text": [
      "Survived      0\n",
      "Pclass        0\n",
      "Sex           0\n",
      "Age         177\n",
      "SibSp         0\n",
      "Parch         0\n",
      "Fare          0\n",
      "Embarked      2\n",
      "dtype: int64\n"
     ]
    }
   ],
   "source": [
    "print df.isnull().sum()"
   ]
  },
  {
   "cell_type": "markdown",
   "metadata": {},
   "source": [
    "The above result indicates that only Age & Embarked column are with missing values."
   ]
  },
  {
   "cell_type": "code",
   "execution_count": 13,
   "metadata": {
    "collapsed": false
   },
   "outputs": [
    {
     "data": {
      "text/plain": [
       "count    714.000000\n",
       "mean      29.699118\n",
       "std       14.526497\n",
       "min        0.420000\n",
       "25%       20.125000\n",
       "50%       28.000000\n",
       "75%       38.000000\n",
       "max       80.000000\n",
       "Name: Age, dtype: float64"
      ]
     },
     "execution_count": 13,
     "metadata": {},
     "output_type": "execute_result"
    }
   ],
   "source": [
    "df.Age.describe()"
   ]
  },
  {
   "cell_type": "code",
   "execution_count": 14,
   "metadata": {
    "collapsed": false
   },
   "outputs": [
    {
     "data": {
      "image/png": "[encoded data removed]",
      "text/plain": [
       "<matplotlib.figure.Figure at 0x9f43e10>"
      ]
     },
     "metadata": {},
     "output_type": "display_data"
    }
   ],
   "source": [
    "df.hist(column='Age',    # Column to plot\n",
    "                   figsize=(9,6),   # Plot size\n",
    "                   bins=40)\n",
    "plt.xlabel(\"Age\")\n",
    "plt.ylabel(\"Number of Person\")\n",
    "plt.title(\"Histogram of Passenger Age\");"
   ]
  },
  {
   "cell_type": "markdown",
   "metadata": {},
   "source": [
    "From the histogram above, we can observe that a lot of children under 5 years age were onboard. Some of them were babies under 1 year as evident from the peak around 1 year.This histogram would have an almost normal distribution if there wasn't a peak around 1 year old. This is also evident from the statistical result where the mean & median are different. For a normal distribution mean & median should be same. \n",
    "Overall the histogram plot shows that the passenger's age is distributed around late 20's. Now let us investigate the distribution of age in passengers who survived and who couldnt survive."
   ]
  },
  {
   "cell_type": "code",
   "execution_count": 15,
   "metadata": {
    "collapsed": false
   },
   "outputs": [
    {
     "data": {
      "text/html": [
       "<div>\n",
       "<table border=\"1\" class=\"dataframe\">\n",
       "  <thead>\n",
       "    <tr style=\"text-align: right;\">\n",
       "      <th>Survived</th>\n",
       "      <th>0</th>\n",
       "      <th>1</th>\n",
       "    </tr>\n",
       "  </thead>\n",
       "  <tbody>\n",
       "    <tr>\n",
       "      <th>count</th>\n",
       "      <td>424.000000</td>\n",
       "      <td>290.000000</td>\n",
       "    </tr>\n",
       "    <tr>\n",
       "      <th>mean</th>\n",
       "      <td>30.626179</td>\n",
       "      <td>28.343690</td>\n",
       "    </tr>\n",
       "    <tr>\n",
       "      <th>std</th>\n",
       "      <td>14.172110</td>\n",
       "      <td>14.950952</td>\n",
       "    </tr>\n",
       "    <tr>\n",
       "      <th>min</th>\n",
       "      <td>1.000000</td>\n",
       "      <td>0.420000</td>\n",
       "    </tr>\n",
       "    <tr>\n",
       "      <th>25%</th>\n",
       "      <td>21.000000</td>\n",
       "      <td>19.000000</td>\n",
       "    </tr>\n",
       "    <tr>\n",
       "      <th>50%</th>\n",
       "      <td>28.000000</td>\n",
       "      <td>28.000000</td>\n",
       "    </tr>\n",
       "    <tr>\n",
       "      <th>75%</th>\n",
       "      <td>39.000000</td>\n",
       "      <td>36.000000</td>\n",
       "    </tr>\n",
       "    <tr>\n",
       "      <th>max</th>\n",
       "      <td>74.000000</td>\n",
       "      <td>80.000000</td>\n",
       "    </tr>\n",
       "  </tbody>\n",
       "</table>\n",
       "</div>"
      ],
      "text/plain": [
       "Survived           0           1\n",
       "count     424.000000  290.000000\n",
       "mean       30.626179   28.343690\n",
       "std        14.172110   14.950952\n",
       "min         1.000000    0.420000\n",
       "25%        21.000000   19.000000\n",
       "50%        28.000000   28.000000\n",
       "75%        39.000000   36.000000\n",
       "max        74.000000   80.000000"
      ]
     },
     "execution_count": 15,
     "metadata": {},
     "output_type": "execute_result"
    }
   ],
   "source": [
    "df.groupby('Survived').Age.describe().unstack(level=0)"
   ]
  },
  {
   "cell_type": "code",
   "execution_count": 16,
   "metadata": {
    "collapsed": false
   },
   "outputs": [
    {
     "data": {
      "image/png": "[encoded data removed]",
      "text/plain": [
       "<matplotlib.figure.Figure at 0x9f43240>"
      ]
     },
     "metadata": {},
     "output_type": "display_data"
    }
   ],
   "source": [
    "p = sns.violinplot(data = df, x = 'Survived', y = 'Age')\n",
    "p.set(title = 'Age Distribution by Survival', \n",
    "        xlabel = 'Survival', \n",
    "        ylabel = 'Age Distribution', \n",
    "        xticklabels = ['Died', 'Survived']);"
   ]
  },
  {
   "cell_type": "markdown",
   "metadata": {},
   "source": [
    "We can see from the statistics & violin plot, that the distribution is a little bit different.The distribution of the age shows bimodal distribution of people who survived. The first peak is caused by the fact that all the babies less than one year old were saved. The second peak shows that maximum survivors were between age 20-36 years. However, maximum passengers who died were also in the age bracket of 20-40 years. Many old people died from the tragedy, though we see an 80 year-old man did survive the tragedy. "
   ]
  },
  {
   "cell_type": "markdown",
   "metadata": {},
   "source": [
    "There are missing values in the age column, but as our primary goal is to create a good predictor, filling missing value in Age column with mean/median is not a good idea as it can affect the distribution. We will rather create a seperate variable with passangers only with valic Age variable by removing the missing values. We will use this variable when we will do some calculation based on Age column."
   ]
  },
  {
   "cell_type": "code",
   "execution_count": 17,
   "metadata": {
    "collapsed": false
   },
   "outputs": [],
   "source": [
    "df_age_cleaned = df.dropna(axis = 0)"
   ]
  },
  {
   "cell_type": "code",
   "execution_count": 18,
   "metadata": {
    "collapsed": false
   },
   "outputs": [
    {
     "name": "stdout",
     "output_type": "stream",
     "text": [
      "<class 'pandas.core.frame.DataFrame'>\n",
      "Int64Index: 712 entries, 0 to 890\n",
      "Data columns (total 8 columns):\n",
      "Survived    712 non-null int64\n",
      "Pclass      712 non-null category\n",
      "Sex         712 non-null category\n",
      "Age         712 non-null float64\n",
      "SibSp       712 non-null int64\n",
      "Parch       712 non-null int64\n",
      "Fare        712 non-null float64\n",
      "Embarked    712 non-null object\n",
      "dtypes: category(2), float64(2), int64(3), object(1)\n",
      "memory usage: 40.4+ KB\n"
     ]
    }
   ],
   "source": [
    "df_age_cleaned.info()"
   ]
  },
  {
   "cell_type": "code",
   "execution_count": 19,
   "metadata": {
    "collapsed": false
   },
   "outputs": [
    {
     "data": {
      "text/html": [
       "<div>\n",
       "<table border=\"1\" class=\"dataframe\">\n",
       "  <thead>\n",
       "    <tr style=\"text-align: right;\">\n",
       "      <th></th>\n",
       "      <th>Age</th>\n",
       "    </tr>\n",
       "    <tr>\n",
       "      <th>Pclass</th>\n",
       "      <th></th>\n",
       "    </tr>\n",
       "  </thead>\n",
       "  <tbody>\n",
       "    <tr>\n",
       "      <th>Class1</th>\n",
       "      <td>38.105543</td>\n",
       "    </tr>\n",
       "    <tr>\n",
       "      <th>Class2</th>\n",
       "      <td>29.877630</td>\n",
       "    </tr>\n",
       "    <tr>\n",
       "      <th>Class3</th>\n",
       "      <td>25.140620</td>\n",
       "    </tr>\n",
       "  </tbody>\n",
       "</table>\n",
       "</div>"
      ],
      "text/plain": [
       "              Age\n",
       "Pclass           \n",
       "Class1  38.105543\n",
       "Class2  29.877630\n",
       "Class3  25.140620"
      ]
     },
     "execution_count": 19,
     "metadata": {},
     "output_type": "execute_result"
    }
   ],
   "source": [
    "df_age_cleaned.groupby(['Pclass'])[['Age']].mean()"
   ]
  },
  {
   "cell_type": "code",
   "execution_count": 20,
   "metadata": {
    "collapsed": false
   },
   "outputs": [
    {
     "data": {
      "image/png": "[encoded data removed]",
      "text/plain": [
       "<matplotlib.figure.Figure at 0x9fd1208>"
      ]
     },
     "metadata": {},
     "output_type": "display_data"
    }
   ],
   "source": [
    "df_age_cleaned.Age[df_age_cleaned.Pclass == 'Class1'].plot(kind='kde', figsize=(10,6))\n",
    "df_age_cleaned.Age[df_age_cleaned.Pclass == 'Class2'].plot(kind='kde', figsize=(10,6))\n",
    "df_age_cleaned.Age[df_age_cleaned.Pclass == 'Class3'].plot(kind='kde', figsize=(10,6))\n",
    "plt.title(\"Distribution of Age with Class\")\n",
    "plt.xlabel(\"Age\")\n",
    "plt.legend(('1st Class','2nd Class','3rd Class'),loc='best') \n",
    "plt.grid(b=True)\n"
   ]
  },
  {
   "cell_type": "markdown",
   "metadata": {},
   "source": [
    "Here, we are looking at the age distribution of passengers by class.\n",
    "It's be obvious that the density would be high for Class 3 people but spread is more for Class 1 passengers.\n",
    "However it is observed that :\n",
    "_* 1. Younger people (20-30) travel more in Class 3.*_\n",
    "_* 2. Older poeple (55 onwards) travel more in Class 1.*_\n",
    "The same is also evident from the mean values calculated above."
   ]
  },
  {
   "cell_type": "code",
   "execution_count": 21,
   "metadata": {
    "collapsed": false
   },
   "outputs": [
    {
     "data": {
      "text/html": [
       "<div>\n",
       "<table border=\"1\" class=\"dataframe\">\n",
       "  <thead>\n",
       "    <tr style=\"text-align: right;\">\n",
       "      <th></th>\n",
       "      <th>Age</th>\n",
       "    </tr>\n",
       "    <tr>\n",
       "      <th>Embarked</th>\n",
       "      <th></th>\n",
       "    </tr>\n",
       "  </thead>\n",
       "  <tbody>\n",
       "    <tr>\n",
       "      <th>C</th>\n",
       "      <td>30.814769</td>\n",
       "    </tr>\n",
       "    <tr>\n",
       "      <th>Q</th>\n",
       "      <td>28.089286</td>\n",
       "    </tr>\n",
       "    <tr>\n",
       "      <th>S</th>\n",
       "      <td>29.445397</td>\n",
       "    </tr>\n",
       "  </tbody>\n",
       "</table>\n",
       "</div>"
      ],
      "text/plain": [
       "                Age\n",
       "Embarked           \n",
       "C         30.814769\n",
       "Q         28.089286\n",
       "S         29.445397"
      ]
     },
     "execution_count": 21,
     "metadata": {},
     "output_type": "execute_result"
    }
   ],
   "source": [
    "df_age_cleaned.groupby(['Embarked'])[['Age']].mean()"
   ]
  },
  {
   "cell_type": "code",
   "execution_count": 22,
   "metadata": {
    "collapsed": false
   },
   "outputs": [
    {
     "data": {
      "image/png": "[encoded data removed]",
      "text/plain": [
       "<matplotlib.figure.Figure at 0x3e61ba8>"
      ]
     },
     "metadata": {},
     "output_type": "display_data"
    }
   ],
   "source": [
    "df_age_cleaned.Age[df_age_cleaned.Embarked == 'C'].plot(kind='kde', figsize=(10,6))\n",
    "df_age_cleaned.Age[df_age_cleaned.Embarked == 'Q'].plot(kind='kde', figsize=(10,6))\n",
    "df_age_cleaned.Age[df_age_cleaned.Embarked == 'S'].plot(kind='kde', figsize=(10,6))\n",
    "plt.title(\"Distribution of Age with Port of Embarkment\")\n",
    "plt.xlabel(\"Age\")\n",
    "plt.legend(('Cherbourg','Queenstown','Southampton'),loc='best') \n",
    "plt.grid(b=True)"
   ]
  },
  {
   "cell_type": "markdown",
   "metadata": {},
   "source": [
    "Here we look at the Age distribution of passengers by port of embarkment. Its evident that the density is high for port Queenstown. younger people (20 -30) embarked more from Port Queenstown. Also more babies (under age 1) embarked from Southampton. Passengers under age 50-60 range were majorly embarked from Cherbourg & Southampton."
   ]
  },
  {
   "cell_type": "markdown",
   "metadata": {},
   "source": [
    "### Port of maximum embarkment."
   ]
  },
  {
   "cell_type": "code",
   "execution_count": 23,
   "metadata": {
    "collapsed": false
   },
   "outputs": [
    {
     "data": {
      "text/plain": [
       "'S'"
      ]
     },
     "execution_count": 23,
     "metadata": {},
     "output_type": "execute_result"
    }
   ],
   "source": [
    "max_embark = df.Embarked.value_counts().argmax() \n",
    "max_embark"
   ]
  },
  {
   "cell_type": "markdown",
   "metadata": {},
   "source": [
    "#### Filling the NA value in Embarked column with port with maximum embarkment."
   ]
  },
  {
   "cell_type": "code",
   "execution_count": 24,
   "metadata": {
    "collapsed": true
   },
   "outputs": [],
   "source": [
    "df.Embarked = df.Embarked.fillna(max_embark) "
   ]
  },
  {
   "cell_type": "markdown",
   "metadata": {},
   "source": [
    "Now we will try to inverstigate the outlier data.We will investigate the 'Fare' variable by using histogram and KDE plot."
   ]
  },
  {
   "cell_type": "code",
   "execution_count": 25,
   "metadata": {
    "collapsed": false
   },
   "outputs": [
    {
     "data": {
      "text/plain": [
       "count    891.000000\n",
       "mean      32.204208\n",
       "std       49.693429\n",
       "min        0.000000\n",
       "25%        7.910400\n",
       "50%       14.454200\n",
       "75%       31.000000\n",
       "max      512.329200\n",
       "Name: Fare, dtype: float64"
      ]
     },
     "execution_count": 25,
     "metadata": {},
     "output_type": "execute_result"
    }
   ],
   "source": [
    "df.Fare.describe()"
   ]
  },
  {
   "cell_type": "code",
   "execution_count": 26,
   "metadata": {
    "collapsed": false
   },
   "outputs": [
    {
     "data": {
      "text/plain": [
       "<matplotlib.text.Text at 0xb2cc940>"
      ]
     },
     "execution_count": 26,
     "metadata": {},
     "output_type": "execute_result"
    },
    {
     "data": {
      "image/png": "[encoded data removed]",
      "text/plain": [
       "<matplotlib.figure.Figure at 0xa01e2e8>"
      ]
     },
     "metadata": {},
     "output_type": "display_data"
    }
   ],
   "source": [
    "df.Fare.plot(kind='hist', bins = 25)\n",
    "sns.plt.title(\"Histogram of Fare in Passengers onboard\")\n",
    "plt.xlabel(\"Fare\")\n",
    "plt.ylabel(\"Passenger Count\")"
   ]
  },
  {
   "cell_type": "code",
   "execution_count": 27,
   "metadata": {
    "collapsed": false
   },
   "outputs": [
    {
     "data": {
      "text/plain": [
       "<matplotlib.text.Text at 0xba6e748>"
      ]
     },
     "execution_count": 27,
     "metadata": {},
     "output_type": "execute_result"
    },
    {
     "data": {
      "image/png": "[encoded data removed]",
      "text/plain": [
       "<matplotlib.figure.Figure at 0xb8064a8>"
      ]
     },
     "metadata": {},
     "output_type": "display_data"
    }
   ],
   "source": [
    "sns.kdeplot(df.Fare, shade = True, color = \"g\")\n",
    "sns.plt.title(\"Kernel Density Estimate Curve of Fare in Passengers onboard\")\n",
    "plt.xlabel(\"Fare\")\n",
    "plt.ylabel(\"Density\")"
   ]
  },
  {
   "cell_type": "markdown",
   "metadata": {},
   "source": [
    "The above statistics shows that the median fare was only 14.4 Pounds and almost 75% passengers were paying 31 Pound or less for the trip. However, the maximum ticket fare paid was 512 Pounds i,e. possible outliers. The histogram & KDE reperesnts the same behaviour. Lets have a look of the passenger who paid this hefty amount."
   ]
  },
  {
   "cell_type": "code",
   "execution_count": 28,
   "metadata": {
    "collapsed": false
   },
   "outputs": [
    {
     "data": {
      "text/html": [
       "<div>\n",
       "<table border=\"1\" class=\"dataframe\">\n",
       "  <thead>\n",
       "    <tr style=\"text-align: right;\">\n",
       "      <th></th>\n",
       "      <th>Survived</th>\n",
       "      <th>Pclass</th>\n",
       "      <th>Sex</th>\n",
       "      <th>Age</th>\n",
       "      <th>SibSp</th>\n",
       "      <th>Parch</th>\n",
       "      <th>Fare</th>\n",
       "      <th>Embarked</th>\n",
       "    </tr>\n",
       "  </thead>\n",
       "  <tbody>\n",
       "    <tr>\n",
       "      <th>258</th>\n",
       "      <td>1</td>\n",
       "      <td>Class1</td>\n",
       "      <td>female</td>\n",
       "      <td>35.0</td>\n",
       "      <td>0</td>\n",
       "      <td>0</td>\n",
       "      <td>512.3292</td>\n",
       "      <td>C</td>\n",
       "    </tr>\n",
       "    <tr>\n",
       "      <th>679</th>\n",
       "      <td>1</td>\n",
       "      <td>Class1</td>\n",
       "      <td>male</td>\n",
       "      <td>36.0</td>\n",
       "      <td>0</td>\n",
       "      <td>1</td>\n",
       "      <td>512.3292</td>\n",
       "      <td>C</td>\n",
       "    </tr>\n",
       "    <tr>\n",
       "      <th>737</th>\n",
       "      <td>1</td>\n",
       "      <td>Class1</td>\n",
       "      <td>male</td>\n",
       "      <td>35.0</td>\n",
       "      <td>0</td>\n",
       "      <td>0</td>\n",
       "      <td>512.3292</td>\n",
       "      <td>C</td>\n",
       "    </tr>\n",
       "  </tbody>\n",
       "</table>\n",
       "</div>"
      ],
      "text/plain": [
       "     Survived  Pclass     Sex   Age  SibSp  Parch      Fare Embarked\n",
       "258         1  Class1  female  35.0      0      0  512.3292        C\n",
       "679         1  Class1    male  36.0      0      1  512.3292        C\n",
       "737         1  Class1    male  35.0      0      0  512.3292        C"
      ]
     },
     "execution_count": 28,
     "metadata": {},
     "output_type": "execute_result"
    }
   ],
   "source": [
    "df[df.Fare == df[\"Fare\"].max()]"
   ]
  },
  {
   "cell_type": "markdown",
   "metadata": {},
   "source": [
    "This shows that there were 3 passengers who paid this huge amount. All of them were from higher socio-economic status evident from the fact that they were from Class 1. All of them embarked on Port C and fortunately all them survived."
   ]
  },
  {
   "cell_type": "code",
   "execution_count": 29,
   "metadata": {
    "collapsed": false
   },
   "outputs": [
    {
     "data": {
      "image/png": "[encoded data removed]",
      "text/plain": [
       "<matplotlib.figure.Figure at 0xb074fd0>"
      ]
     },
     "metadata": {},
     "output_type": "display_data"
    }
   ],
   "source": [
    "df.Fare[df.Pclass == 'Class1'].plot(kind='kde', figsize=(10,6))\n",
    "df.Fare[df.Pclass == 'Class2'].plot(kind='kde', figsize=(10,6))\n",
    "df.Fare[df.Pclass == 'Class3'].plot(kind='kde', figsize=(10,6))\n",
    "plt.title(\"Distribution of Fare with Class\")\n",
    "plt.xlabel(\"Fare\")\n",
    "plt.legend(('1st Class','2nd Class','3rd Class'),loc='best') \n",
    "plt.grid(b=True)"
   ]
  },
  {
   "cell_type": "markdown",
   "metadata": {},
   "source": [
    "As evident from the chart maximum density of fare is from Class 3 passengers but the spread of fare is least and minimum density is from 1st class passengers with greater spread. This denotes that the fare for 1st class passengers was higher than for 3rd class passengers and more passengers were from class 3 than from class 1 which is obvious."
   ]
  },
  {
   "cell_type": "code",
   "execution_count": 30,
   "metadata": {
    "collapsed": false
   },
   "outputs": [
    {
     "data": {
      "image/png": "[encoded data removed]",
      "text/plain": [
       "<matplotlib.figure.Figure at 0xb99fa20>"
      ]
     },
     "metadata": {},
     "output_type": "display_data"
    }
   ],
   "source": [
    "df.Fare[df.Embarked == 'C'].plot(kind='kde', figsize=(10,6))\n",
    "df.Fare[df.Embarked == 'Q'].plot(kind='kde', figsize=(10,6))\n",
    "df.Fare[df.Embarked == 'S'].plot(kind='kde', figsize=(10,6))\n",
    "plt.title(\"Distribution of Fare with Port of Embarkment\")\n",
    "plt.xlabel(\"Fare\")\n",
    "plt.legend(('Cherbourg','Queenstown','Southampton'),loc='best') \n",
    "plt.grid(b=True)"
   ]
  },
  {
   "cell_type": "markdown",
   "metadata": {},
   "source": [
    "The above chart shows that the density of fare is maximum for Queenstown port however the spread is minimum which indicates that mostly low class passengers boarded from Queenstown.Similarly mostly 1st class passengers boarded from Cherbourg."
   ]
  },
  {
   "cell_type": "markdown",
   "metadata": {},
   "source": [
    "First create a function to get passenger data by catagory (i.e. Pclass, Embarkment, Sex..etc)"
   ]
  },
  {
   "cell_type": "code",
   "execution_count": 31,
   "metadata": {
    "collapsed": false
   },
   "outputs": [],
   "source": [
    "def passenger_by_catagory(catagory):\n",
    "    passenger_by_catagory = df[catagory].value_counts().sort_index()\n",
    "    return passenger_by_catagory"
   ]
  },
  {
   "cell_type": "markdown",
   "metadata": {},
   "source": [
    "#### Passenger count by Sex:"
   ]
  },
  {
   "cell_type": "code",
   "execution_count": 32,
   "metadata": {
    "collapsed": false
   },
   "outputs": [
    {
     "name": "stdout",
     "output_type": "stream",
     "text": [
      "female    314\n",
      "male      577\n",
      "dtype: int64\n"
     ]
    }
   ],
   "source": [
    "print passenger_by_catagory('Sex') "
   ]
  },
  {
   "cell_type": "markdown",
   "metadata": {},
   "source": [
    "The above result shows that the male passengers were almost double the female passengers. The same has been plotted below."
   ]
  },
  {
   "cell_type": "code",
   "execution_count": 33,
   "metadata": {
    "collapsed": false
   },
   "outputs": [
    {
     "data": {
      "text/plain": [
       "<matplotlib.text.Text at 0xa0a1a58>"
      ]
     },
     "execution_count": 33,
     "metadata": {},
     "output_type": "execute_result"
    },
    {
     "data": {
      "image/png": "[encoded data removed]",
      "text/plain": [
       "<matplotlib.figure.Figure at 0xba6e240>"
      ]
     },
     "metadata": {},
     "output_type": "display_data"
    }
   ],
   "source": [
    "sns.factorplot('Sex', data = df, kind = 'count');\n",
    "sns.plt.title('Passengers by Sex')"
   ]
  },
  {
   "cell_type": "markdown",
   "metadata": {},
   "source": [
    "#### Passenger Count by Pclass:"
   ]
  },
  {
   "cell_type": "code",
   "execution_count": 34,
   "metadata": {
    "collapsed": false
   },
   "outputs": [
    {
     "data": {
      "text/plain": [
       "Class1    216\n",
       "Class2    184\n",
       "Class3    491\n",
       "dtype: int64"
      ]
     },
     "execution_count": 34,
     "metadata": {},
     "output_type": "execute_result"
    }
   ],
   "source": [
    "passenger_by_catagory('Pclass')"
   ]
  },
  {
   "cell_type": "code",
   "execution_count": 35,
   "metadata": {
    "collapsed": false
   },
   "outputs": [
    {
     "data": {
      "text/plain": [
       "<matplotlib.text.Text at 0xa01eef0>"
      ]
     },
     "execution_count": 35,
     "metadata": {},
     "output_type": "execute_result"
    },
    {
     "data": {
      "image/png": "[encoded data removed]",
      "text/plain": [
       "<matplotlib.figure.Figure at 0xb1c2a90>"
      ]
     },
     "metadata": {},
     "output_type": "display_data"
    }
   ],
   "source": [
    "sns.factorplot('Pclass', data = df, kind = 'count')\n",
    "sns.plt.title('Passengers by Class')"
   ]
  },
  {
   "cell_type": "markdown",
   "metadata": {},
   "source": [
    "The above result shows that most of the passengers belong to lower class i.e. Class 3 "
   ]
  },
  {
   "cell_type": "markdown",
   "metadata": {},
   "source": [
    "#### Passenger Count by Port of Embarkment:"
   ]
  },
  {
   "cell_type": "code",
   "execution_count": 36,
   "metadata": {
    "collapsed": false
   },
   "outputs": [
    {
     "data": {
      "text/plain": [
       "C    168\n",
       "Q     77\n",
       "S    646\n",
       "Name: Embarked, dtype: int64"
      ]
     },
     "execution_count": 36,
     "metadata": {},
     "output_type": "execute_result"
    }
   ],
   "source": [
    "passenger_by_catagory('Embarked')"
   ]
  },
  {
   "cell_type": "code",
   "execution_count": 37,
   "metadata": {
    "collapsed": false
   },
   "outputs": [
    {
     "data": {
      "text/plain": [
       "<matplotlib.text.Text at 0xb3f2fd0>"
      ]
     },
     "execution_count": 37,
     "metadata": {},
     "output_type": "execute_result"
    },
    {
     "data": {
      "image/png": "[encoded data removed]",
      "text/plain": [
       "<matplotlib.figure.Figure at 0xa097278>"
      ]
     },
     "metadata": {},
     "output_type": "display_data"
    }
   ],
   "source": [
    "sns.factorplot('Embarked', data = df, kind = 'count')\n",
    "sns.plt.title('Passengers by Port of Embarkment')"
   ]
  },
  {
   "cell_type": "markdown",
   "metadata": {},
   "source": [
    "The above analysis shows that male passengers were more than female passengers. Also maximum passengers were from Class 3 and most of the passengers embarked from Station S."
   ]
  },
  {
   "cell_type": "markdown",
   "metadata": {},
   "source": [
    "Now We will create a function to get the survival data catagorywise:"
   ]
  },
  {
   "cell_type": "code",
   "execution_count": 38,
   "metadata": {
    "collapsed": false
   },
   "outputs": [],
   "source": [
    "def survived_by_catagory(catagory):\n",
    "    survived_by_catagory = df[df.Survived == 1].groupby(catagory).count()['Survived']\n",
    "    return survived_by_catagory"
   ]
  },
  {
   "cell_type": "code",
   "execution_count": 39,
   "metadata": {
    "collapsed": false
   },
   "outputs": [
    {
     "name": "stdout",
     "output_type": "stream",
     "text": [
      "No. of Passenger Survived by : Sex\n",
      "female    233\n",
      "male      109\n",
      "Name: Survived, dtype: int64\n",
      "Percentage of Passenger Survived by Sex:\n",
      "Sex\n",
      "female    74.203822\n",
      "male      18.890815\n",
      "dtype: float64\n",
      "No. of Passenger Survived by : Pclass\n",
      "Class1    136\n",
      "Class2     87\n",
      "Class3    119\n",
      "Name: Survived, dtype: int64\n",
      "Percentage of Passenger Survived by Class:\n",
      "Pclass\n",
      "Class1    62.962963\n",
      "Class2    47.282609\n",
      "Class3    24.236253\n",
      "dtype: float64\n",
      "No. of Passenger Survived by Station : Embarked\n",
      "C     93\n",
      "Q     30\n",
      "S    219\n",
      "Name: Survived, dtype: int64\n",
      "Percentage of Passenger Survived by Station Embarked:\n",
      "Embarked\n",
      "C    55.357143\n",
      "Q    38.961039\n",
      "S    33.900929\n",
      "dtype: float64\n"
     ]
    }
   ],
   "source": [
    "print \"No. of Passenger Survived by : {}\".format(survived_by_catagory('Sex'))\n",
    "print \"Percentage of Passenger Survived by Sex:\\n{}\".format((survived_by_catagory('Sex')/passenger_by_catagory('Sex'))*100)\n",
    "print \"No. of Passenger Survived by : {}\".format(survived_by_catagory('Pclass'))\n",
    "print \"Percentage of Passenger Survived by Class:\\n{}\".format((survived_by_catagory('Pclass')/passenger_by_catagory('Pclass'))*100)\n",
    "print \"No. of Passenger Survived by Station : {}\".format(survived_by_catagory('Embarked'))\n",
    "print \"Percentage of Passenger Survived by Station Embarked:\\n{}\".format((survived_by_catagory('Embarked')/passenger_by_catagory('Embarked'))*100)"
   ]
  },
  {
   "cell_type": "code",
   "execution_count": 40,
   "metadata": {
    "collapsed": false
   },
   "outputs": [
    {
     "data": {
      "text/plain": [
       "<matplotlib.axes._subplots.AxesSubplot at 0xc1ca630>"
      ]
     },
     "execution_count": 40,
     "metadata": {},
     "output_type": "execute_result"
    },
    {
     "data": {
      "image/png": "[encoded data removed]",
      "text/plain": [
       "<matplotlib.figure.Figure at 0x9fdf588>"
      ]
     },
     "metadata": {},
     "output_type": "display_data"
    }
   ],
   "source": [
    "f, (ax1, ax2, ax3) = plt.subplots(3)\n",
    "sns.countplot(x = \"Sex\", hue = \"Survived\", data=df, ax = ax1)\n",
    "sns.countplot(x = \"Pclass\", hue = \"Survived\", data=df, ax = ax2)\n",
    "sns.countplot(x = \"Embarked\", hue = \"Survived\", data=df, ax = ax3)"
   ]
  },
  {
   "cell_type": "markdown",
   "metadata": {},
   "source": [
    "##### The above results & three barplots give following informations about the dataset:\n",
    "1. Maximum No. of passanger survived were females(74% of the total passengers in the dataset).\n",
    "2. Maximum passengers who survived were Class 1 passengers.\n",
    "3. Maximum survivors were having station of embarkment as S."
   ]
  },
  {
   "cell_type": "code",
   "execution_count": 41,
   "metadata": {
    "collapsed": false
   },
   "outputs": [
    {
     "data": {
      "text/html": [
       "<div>\n",
       "<table border=\"1\" class=\"dataframe\">\n",
       "  <thead>\n",
       "    <tr style=\"text-align: right;\">\n",
       "      <th></th>\n",
       "      <th>Survived</th>\n",
       "    </tr>\n",
       "    <tr>\n",
       "      <th>Sex</th>\n",
       "      <th></th>\n",
       "    </tr>\n",
       "  </thead>\n",
       "  <tbody>\n",
       "    <tr>\n",
       "      <th>female</th>\n",
       "      <td>0.742038</td>\n",
       "    </tr>\n",
       "    <tr>\n",
       "      <th>male</th>\n",
       "      <td>0.188908</td>\n",
       "    </tr>\n",
       "  </tbody>\n",
       "</table>\n",
       "</div>"
      ],
      "text/plain": [
       "        Survived\n",
       "Sex             \n",
       "female  0.742038\n",
       "male    0.188908"
      ]
     },
     "execution_count": 41,
     "metadata": {},
     "output_type": "execute_result"
    }
   ],
   "source": [
    "df.groupby('Sex')[['Survived']].mean()"
   ]
  },
  {
   "cell_type": "code",
   "execution_count": 42,
   "metadata": {
    "collapsed": false
   },
   "outputs": [
    {
     "data": {
      "text/plain": [
       "<matplotlib.text.Text at 0xc670978>"
      ]
     },
     "execution_count": 42,
     "metadata": {},
     "output_type": "execute_result"
    },
    {
     "data": {
      "image/png": "[encoded data removed]",
      "text/plain": [
       "<matplotlib.figure.Figure at 0xb1a3d68>"
      ]
     },
     "metadata": {},
     "output_type": "display_data"
    }
   ],
   "source": [
    "sns.factorplot(x=\"Sex\", y=\"Survived\",kind='bar', data=df)\n",
    "sns.plt.title('Survival rate by Gender')\n",
    "plt.ylabel(\"Survival Rate\")"
   ]
  },
  {
   "cell_type": "markdown",
   "metadata": {},
   "source": [
    "The above statistics & plot shows that overall survival rate of female was very high (74%) compared to males (~19%)."
   ]
  },
  {
   "cell_type": "code",
   "execution_count": 43,
   "metadata": {
    "collapsed": false
   },
   "outputs": [
    {
     "data": {
      "text/html": [
       "<div>\n",
       "<table border=\"1\" class=\"dataframe\">\n",
       "  <thead>\n",
       "    <tr style=\"text-align: right;\">\n",
       "      <th></th>\n",
       "      <th></th>\n",
       "      <th>Survived</th>\n",
       "    </tr>\n",
       "    <tr>\n",
       "      <th>Sex</th>\n",
       "      <th>Pclass</th>\n",
       "      <th></th>\n",
       "    </tr>\n",
       "  </thead>\n",
       "  <tbody>\n",
       "    <tr>\n",
       "      <th rowspan=\"3\" valign=\"top\">female</th>\n",
       "      <th>Class1</th>\n",
       "      <td>0.968085</td>\n",
       "    </tr>\n",
       "    <tr>\n",
       "      <th>Class2</th>\n",
       "      <td>0.921053</td>\n",
       "    </tr>\n",
       "    <tr>\n",
       "      <th>Class3</th>\n",
       "      <td>0.500000</td>\n",
       "    </tr>\n",
       "    <tr>\n",
       "      <th rowspan=\"3\" valign=\"top\">male</th>\n",
       "      <th>Class1</th>\n",
       "      <td>0.368852</td>\n",
       "    </tr>\n",
       "    <tr>\n",
       "      <th>Class2</th>\n",
       "      <td>0.157407</td>\n",
       "    </tr>\n",
       "    <tr>\n",
       "      <th>Class3</th>\n",
       "      <td>0.135447</td>\n",
       "    </tr>\n",
       "  </tbody>\n",
       "</table>\n",
       "</div>"
      ],
      "text/plain": [
       "               Survived\n",
       "Sex    Pclass          \n",
       "female Class1  0.968085\n",
       "       Class2  0.921053\n",
       "       Class3  0.500000\n",
       "male   Class1  0.368852\n",
       "       Class2  0.157407\n",
       "       Class3  0.135447"
      ]
     },
     "execution_count": 43,
     "metadata": {},
     "output_type": "execute_result"
    }
   ],
   "source": [
    "df.groupby(['Sex', 'Pclass'])[['Survived']].mean()"
   ]
  },
  {
   "cell_type": "code",
   "execution_count": 44,
   "metadata": {
    "collapsed": false
   },
   "outputs": [
    {
     "data": {
      "text/plain": [
       "<matplotlib.text.Text at 0xbee7320>"
      ]
     },
     "execution_count": 44,
     "metadata": {},
     "output_type": "execute_result"
    },
    {
     "data": {
      "image/png": "[encoded data removed]",
      "text/plain": [
       "<matplotlib.figure.Figure at 0xa02ba90>"
      ]
     },
     "metadata": {},
     "output_type": "display_data"
    }
   ],
   "source": [
    "sns.factorplot(x=\"Pclass\", y=\"Survived\", hue = 'Sex',kind='bar', data=df)\n",
    "sns.plt.title('Survival Rate by Class')\n",
    "plt.ylabel(\"Survival Rate\")"
   ]
  },
  {
   "cell_type": "markdown",
   "metadata": {},
   "source": [
    "The above result shows that Female survival rates were very high across all classes compared to males. Overall Class 1 survival rates were maximum in both males & females."
   ]
  },
  {
   "cell_type": "code",
   "execution_count": 45,
   "metadata": {
    "collapsed": false
   },
   "outputs": [
    {
     "data": {
      "text/html": [
       "<div>\n",
       "<table border=\"1\" class=\"dataframe\">\n",
       "  <thead>\n",
       "    <tr style=\"text-align: right;\">\n",
       "      <th></th>\n",
       "      <th></th>\n",
       "      <th>Survived</th>\n",
       "    </tr>\n",
       "    <tr>\n",
       "      <th>Sex</th>\n",
       "      <th>Embarked</th>\n",
       "      <th></th>\n",
       "    </tr>\n",
       "  </thead>\n",
       "  <tbody>\n",
       "    <tr>\n",
       "      <th rowspan=\"3\" valign=\"top\">female</th>\n",
       "      <th>C</th>\n",
       "      <td>0.876712</td>\n",
       "    </tr>\n",
       "    <tr>\n",
       "      <th>Q</th>\n",
       "      <td>0.750000</td>\n",
       "    </tr>\n",
       "    <tr>\n",
       "      <th>S</th>\n",
       "      <td>0.692683</td>\n",
       "    </tr>\n",
       "    <tr>\n",
       "      <th rowspan=\"3\" valign=\"top\">male</th>\n",
       "      <th>C</th>\n",
       "      <td>0.305263</td>\n",
       "    </tr>\n",
       "    <tr>\n",
       "      <th>Q</th>\n",
       "      <td>0.073171</td>\n",
       "    </tr>\n",
       "    <tr>\n",
       "      <th>S</th>\n",
       "      <td>0.174603</td>\n",
       "    </tr>\n",
       "  </tbody>\n",
       "</table>\n",
       "</div>"
      ],
      "text/plain": [
       "                 Survived\n",
       "Sex    Embarked          \n",
       "female C         0.876712\n",
       "       Q         0.750000\n",
       "       S         0.692683\n",
       "male   C         0.305263\n",
       "       Q         0.073171\n",
       "       S         0.174603"
      ]
     },
     "execution_count": 45,
     "metadata": {},
     "output_type": "execute_result"
    }
   ],
   "source": [
    "df.groupby(['Sex', 'Embarked'])[['Survived']].mean()"
   ]
  },
  {
   "cell_type": "code",
   "execution_count": 46,
   "metadata": {
    "collapsed": false
   },
   "outputs": [
    {
     "data": {
      "text/plain": [
       "<matplotlib.text.Text at 0xc9a1080>"
      ]
     },
     "execution_count": 46,
     "metadata": {},
     "output_type": "execute_result"
    },
    {
     "data": {
      "image/png": "[encoded data removed]",
      "text/plain": [
       "<matplotlib.figure.Figure at 0xc4217b8>"
      ]
     },
     "metadata": {},
     "output_type": "display_data"
    }
   ],
   "source": [
    "sns.factorplot(x=\"Embarked\", y=\"Survived\", hue = 'Sex',kind='bar', data=df)\n",
    "sns.plt.title('Survival Rate by Port of Embarkment')\n",
    "plt.ylabel(\"Survival Rate\")"
   ]
  },
  {
   "cell_type": "markdown",
   "metadata": {},
   "source": [
    "Similarly Survival Rate of female is higher than males across all port of embarkment, with maximum rate of survival for port C. The point to note here is for Port Q although the female survival rate is more than S, male survival rate is comparatively less. Overall a female with port of embarkment C and Pclass 1 has higher chance of survival."
   ]
  },
  {
   "cell_type": "markdown",
   "metadata": {},
   "source": [
    "Let's calculate maximum & minimum age of the Passenger Survived"
   ]
  },
  {
   "cell_type": "code",
   "execution_count": 47,
   "metadata": {
    "collapsed": false
   },
   "outputs": [
    {
     "name": "stdout",
     "output_type": "stream",
     "text": [
      "The maximum age of passenger survived is 80.0\n",
      "The minimum age of passenger survived is 0.42\n"
     ]
    }
   ],
   "source": [
    "max_age_survived = df[df.Survived == 1].Age.max()\n",
    "min_age_survived = df[df.Survived == 1].Age.min()\n",
    "print 'The maximum age of passenger survived is {}'.format(max_age_survived)\n",
    "print 'The minimum age of passenger survived is {}'.format(min_age_survived)\n"
   ]
  },
  {
   "cell_type": "markdown",
   "metadata": {},
   "source": [
    "Similarly Maximum & Minimum age of the Passenger Died:"
   ]
  },
  {
   "cell_type": "code",
   "execution_count": 48,
   "metadata": {
    "collapsed": false
   },
   "outputs": [
    {
     "name": "stdout",
     "output_type": "stream",
     "text": [
      "The maximum age of passenger died is 74.0\n",
      "The minimum age of passenger died is 1.0\n"
     ]
    }
   ],
   "source": [
    "\n",
    "max_age_died = df[df.Survived == 0].Age.max()\n",
    "min_age_died = df[df.Survived == 0].Age.min()\n",
    "print 'The maximum age of passenger died is {}'.format(max_age_died)\n",
    "print 'The minimum age of passenger died is {}'.format(min_age_died)\n",
    "\n",
    "# This shows that all the kids below 1 year age were saved."
   ]
  },
  {
   "cell_type": "markdown",
   "metadata": {
    "collapsed": true
   },
   "source": [
    "## Now We will analyse data to get the answers of the questioned posed in the beginning. "
   ]
  },
  {
   "cell_type": "markdown",
   "metadata": {},
   "source": [
    "### Q 1:  Were Age a factor effecting the rate of survival?"
   ]
  },
  {
   "cell_type": "code",
   "execution_count": 49,
   "metadata": {
    "collapsed": false
   },
   "outputs": [
    {
     "data": {
      "text/html": [
       "<div>\n",
       "<table border=\"1\" class=\"dataframe\">\n",
       "  <thead>\n",
       "    <tr style=\"text-align: right;\">\n",
       "      <th></th>\n",
       "      <th></th>\n",
       "      <th>Age</th>\n",
       "      <th>Fare</th>\n",
       "      <th>Parch</th>\n",
       "      <th>SibSp</th>\n",
       "    </tr>\n",
       "    <tr>\n",
       "      <th>Survived</th>\n",
       "      <th></th>\n",
       "      <th></th>\n",
       "      <th></th>\n",
       "      <th></th>\n",
       "      <th></th>\n",
       "    </tr>\n",
       "  </thead>\n",
       "  <tbody>\n",
       "    <tr>\n",
       "      <th rowspan=\"8\" valign=\"top\">0</th>\n",
       "      <th>count</th>\n",
       "      <td>424.000000</td>\n",
       "      <td>424.000000</td>\n",
       "      <td>424.000000</td>\n",
       "      <td>424.000000</td>\n",
       "    </tr>\n",
       "    <tr>\n",
       "      <th>mean</th>\n",
       "      <td>30.626179</td>\n",
       "      <td>22.965456</td>\n",
       "      <td>0.365566</td>\n",
       "      <td>0.525943</td>\n",
       "    </tr>\n",
       "    <tr>\n",
       "      <th>std</th>\n",
       "      <td>14.172110</td>\n",
       "      <td>31.448825</td>\n",
       "      <td>0.878341</td>\n",
       "      <td>1.044760</td>\n",
       "    </tr>\n",
       "    <tr>\n",
       "      <th>min</th>\n",
       "      <td>1.000000</td>\n",
       "      <td>0.000000</td>\n",
       "      <td>0.000000</td>\n",
       "      <td>0.000000</td>\n",
       "    </tr>\n",
       "    <tr>\n",
       "      <th>25%</th>\n",
       "      <td>21.000000</td>\n",
       "      <td>7.895800</td>\n",
       "      <td>0.000000</td>\n",
       "      <td>0.000000</td>\n",
       "    </tr>\n",
       "    <tr>\n",
       "      <th>50%</th>\n",
       "      <td>28.000000</td>\n",
       "      <td>11.887500</td>\n",
       "      <td>0.000000</td>\n",
       "      <td>0.000000</td>\n",
       "    </tr>\n",
       "    <tr>\n",
       "      <th>75%</th>\n",
       "      <td>39.000000</td>\n",
       "      <td>26.550000</td>\n",
       "      <td>0.000000</td>\n",
       "      <td>1.000000</td>\n",
       "    </tr>\n",
       "    <tr>\n",
       "      <th>max</th>\n",
       "      <td>74.000000</td>\n",
       "      <td>263.000000</td>\n",
       "      <td>6.000000</td>\n",
       "      <td>5.000000</td>\n",
       "    </tr>\n",
       "    <tr>\n",
       "      <th rowspan=\"8\" valign=\"top\">1</th>\n",
       "      <th>count</th>\n",
       "      <td>288.000000</td>\n",
       "      <td>288.000000</td>\n",
       "      <td>288.000000</td>\n",
       "      <td>288.000000</td>\n",
       "    </tr>\n",
       "    <tr>\n",
       "      <th>mean</th>\n",
       "      <td>28.193299</td>\n",
       "      <td>51.647672</td>\n",
       "      <td>0.531250</td>\n",
       "      <td>0.496528</td>\n",
       "    </tr>\n",
       "    <tr>\n",
       "      <th>std</th>\n",
       "      <td>14.859146</td>\n",
       "      <td>70.664499</td>\n",
       "      <td>0.808747</td>\n",
       "      <td>0.732512</td>\n",
       "    </tr>\n",
       "    <tr>\n",
       "      <th>min</th>\n",
       "      <td>0.420000</td>\n",
       "      <td>0.000000</td>\n",
       "      <td>0.000000</td>\n",
       "      <td>0.000000</td>\n",
       "    </tr>\n",
       "    <tr>\n",
       "      <th>25%</th>\n",
       "      <td>19.000000</td>\n",
       "      <td>13.000000</td>\n",
       "      <td>0.000000</td>\n",
       "      <td>0.000000</td>\n",
       "    </tr>\n",
       "    <tr>\n",
       "      <th>50%</th>\n",
       "      <td>28.000000</td>\n",
       "      <td>26.250000</td>\n",
       "      <td>0.000000</td>\n",
       "      <td>0.000000</td>\n",
       "    </tr>\n",
       "    <tr>\n",
       "      <th>75%</th>\n",
       "      <td>36.000000</td>\n",
       "      <td>65.000000</td>\n",
       "      <td>1.000000</td>\n",
       "      <td>1.000000</td>\n",
       "    </tr>\n",
       "    <tr>\n",
       "      <th>max</th>\n",
       "      <td>80.000000</td>\n",
       "      <td>512.329200</td>\n",
       "      <td>5.000000</td>\n",
       "      <td>4.000000</td>\n",
       "    </tr>\n",
       "  </tbody>\n",
       "</table>\n",
       "</div>"
      ],
      "text/plain": [
       "                       Age        Fare       Parch       SibSp\n",
       "Survived                                                      \n",
       "0        count  424.000000  424.000000  424.000000  424.000000\n",
       "         mean    30.626179   22.965456    0.365566    0.525943\n",
       "         std     14.172110   31.448825    0.878341    1.044760\n",
       "         min      1.000000    0.000000    0.000000    0.000000\n",
       "         25%     21.000000    7.895800    0.000000    0.000000\n",
       "         50%     28.000000   11.887500    0.000000    0.000000\n",
       "         75%     39.000000   26.550000    0.000000    1.000000\n",
       "         max     74.000000  263.000000    6.000000    5.000000\n",
       "1        count  288.000000  288.000000  288.000000  288.000000\n",
       "         mean    28.193299   51.647672    0.531250    0.496528\n",
       "         std     14.859146   70.664499    0.808747    0.732512\n",
       "         min      0.420000    0.000000    0.000000    0.000000\n",
       "         25%     19.000000   13.000000    0.000000    0.000000\n",
       "         50%     28.000000   26.250000    0.000000    0.000000\n",
       "         75%     36.000000   65.000000    1.000000    1.000000\n",
       "         max     80.000000  512.329200    5.000000    4.000000"
      ]
     },
     "execution_count": 49,
     "metadata": {},
     "output_type": "execute_result"
    }
   ],
   "source": [
    "survivor_data = df_age_cleaned.groupby('Survived')\n",
    "survivor_data.describe()"
   ]
  },
  {
   "cell_type": "code",
   "execution_count": 50,
   "metadata": {
    "collapsed": false
   },
   "outputs": [
    {
     "data": {
      "text/plain": [
       "<matplotlib.text.Text at 0xb2a8f60>"
      ]
     },
     "execution_count": 50,
     "metadata": {},
     "output_type": "execute_result"
    },
    {
     "data": {
      "image/png": "[encoded data removed]",
      "text/plain": [
       "<matplotlib.figure.Figure at 0xc67d7f0>"
      ]
     },
     "metadata": {},
     "output_type": "display_data"
    }
   ],
   "source": [
    "sns.distplot(df_age_cleaned[df_age_cleaned['Survived'] == 1].Age, kde= True, hist= False, label = \"Survived\");\n",
    "sns.distplot(df_age_cleaned[df_age_cleaned['Survived'] == 0].Age, kde= True, hist= False, label = \"Died\");\n",
    "sns.plt.title(\"Kernel Density Estimate of Age\")\n",
    "plt.ylabel(\"Density Function\")"
   ]
  },
  {
   "cell_type": "code",
   "execution_count": 51,
   "metadata": {
    "collapsed": false
   },
   "outputs": [
    {
     "data": {
      "image/png": "[encoded data removed]",
      "text/plain": [
       "<matplotlib.figure.Figure at 0xcb054e0>"
      ]
     },
     "metadata": {},
     "output_type": "display_data"
    }
   ],
   "source": [
    "p = sns.violinplot(data = df_age_cleaned, x = 'Survived', y = 'Age')\n",
    "p.set(title = 'Age Distribution by Survival', \n",
    "        xlabel = 'Survival', \n",
    "        ylabel = 'Age Distribution', \n",
    "        xticklabels = ['Died', 'Survived']);"
   ]
  },
  {
   "cell_type": "markdown",
   "metadata": {},
   "source": [
    " A look at the Kernel Density Estimate plot & the violinplot shows that the ages of each group almost overlaps and maximum probability density is at approx age 30 years.Average age for those who survived and even those who did not survive were inline with each other and with standard deviation of about 14, the mean age for each group is well within one standard deviation of the other group. However, the case is different for young passengers (0-5 years) there is significant jump in survival density. After age 50 there is decline in survivors density confirming poor survival of old age passengers. Also as the distribution for survival is not a normal distribution, mean and standard deviation might not properly represent distribution attributes. "
   ]
  },
  {
   "cell_type": "code",
   "execution_count": 52,
   "metadata": {
    "collapsed": false
   },
   "outputs": [
    {
     "data": {
      "image/png": "[encoded data removed]",
      "text/plain": [
       "<matplotlib.figure.Figure at 0xba8ec18>"
      ]
     },
     "metadata": {},
     "output_type": "display_data"
    }
   ],
   "source": [
    "p = sns.violinplot(data = df_age_cleaned[df_age_cleaned.Survived == 1], x = 'Sex', y = 'Age')\n",
    "p.set(title = 'Age Distribution of Survivors in Male & Females', \n",
    "        xlabel = 'Sex', \n",
    "        ylabel = 'Age Distribution');"
   ]
  },
  {
   "cell_type": "markdown",
   "metadata": {},
   "source": [
    "The above violinplot shows the Age distribution of Surviors among male & female. Here if we look at the Survivors plot mean age for male & female are almost equivalent and the shape is also similar with slightly higher spreas for female survivors between 20 - 30 years age range."
   ]
  },
  {
   "cell_type": "markdown",
   "metadata": {},
   "source": [
    " To test the effect of age on survival of passengers we will perform a <b>Mann-Whitney U-test</b> to find the U-statistic and p-value by comparing the age of passengers who survived and who couldnot survive. "
   ]
  },
  {
   "cell_type": "markdown",
   "metadata": {},
   "source": [
    "The Mann-Whitney U test (also called the Wilcoxon-Mann-Whitney test) is a rank-based nonparametric test that can be used to determine if there are differences between two groups on a continuous or ordinal dependent variable. The Mann-Whitney U test is often presented as the nonparametric alternative to the independent-samples t-test, which can be used when your data fail the assumptions of the independent-samples t-test. This could happen if: (a) you have non-normally distributed data; or (b) you have an ordinal dependent variable (i.e., the independent-samples t-test requires a continuous dependent variable). \n",
    "In this case our data is non - normally distributed one, hence Mann-Whitney test will be helpful to test the effect."
   ]
  },
  {
   "cell_type": "markdown",
   "metadata": {},
   "source": [
    "### Assumptions of Mann-Whitney U test:\n",
    "\n",
    "<b>Assumption 1:</b> We have one dependent variable that is measured at the continuous or ordinal level. Here we have Passenger's age as dependent variable. \n",
    "\n",
    "<b>Assumption 2:</b> We have one independent variable that consists of two or more categorical, independent groups. In this case survival data (Survived or Died) is the independent variable.\n",
    "\n",
    "<b>Assumption 3:</b> We should have independence of observations, which means that there is no relationship between the observations in each group of the independent variable or between the groups themselves. \n",
    "\n",
    "<b>Assumption 4:</b> You must determine whether the distribution of scores for both groups of our independent variable have the same shape or a different shape. In our case the shape is different as shown in the histogram below."
   ]
  },
  {
   "cell_type": "code",
   "execution_count": 53,
   "metadata": {
    "collapsed": false
   },
   "outputs": [
    {
     "data": {
      "text/plain": [
       "<matplotlib.text.Text at 0xb570e48>"
      ]
     },
     "execution_count": 53,
     "metadata": {},
     "output_type": "execute_result"
    },
    {
     "data": {
      "image/png": "[encoded data removed]",
      "text/plain": [
       "<matplotlib.figure.Figure at 0xb5e8ef0>"
      ]
     },
     "metadata": {},
     "output_type": "display_data"
    }
   ],
   "source": [
    "df_age_cleaned.Age[df_age_cleaned.Survived==1].plot(kind='hist')\n",
    "df_age_cleaned.Age[df_age_cleaned.Survived==0].plot(kind='hist', alpha = 0.75)\n",
    "sns.plt.title(\"Histogram of Survivors & Non Survivors with respect to Age\")\n",
    "plt.xlabel(\"Age Bins\")"
   ]
  },
  {
   "cell_type": "markdown",
   "metadata": {},
   "source": [
    "The p-value returned by scipy.stats.mannwhitneyu is one-tailed. To perform the two-tailed test, the one-tailed p-value returned by scipy.stats.mannwhitneyu is multiplied by 2. The p-critical value used in this test is 0.05 to test for significance. We're ultimately trying to determine whether Survival of Passenger varies with Age. We start by splitting the Age entries into two samples, survived & not-survived. The Mann-Whitney U-Test tests the null hypothesis that the two samples being compared are derived from the same population. This null hypothesis allows us to test whether there is a statistically significant difference in distributions of Age for Survivors & Non-survivors onboard the titanic ship."
   ]
  },
  {
   "cell_type": "markdown",
   "metadata": {},
   "source": [
    "###### Null Hypothysis : H0 -> There is no statistically significant difference in distributions of Age for Survivors & Non-survivors\n"
   ]
  },
  {
   "cell_type": "markdown",
   "metadata": {},
   "source": [
    "###### Alternate Hypothysis: H1 -> There is statistically significant difference in distributions of Age for Survivors & Non-survivors"
   ]
  },
  {
   "cell_type": "code",
   "execution_count": 54,
   "metadata": {
    "collapsed": false
   },
   "outputs": [],
   "source": [
    "age_for_survivors= df_age_cleaned[df_age_cleaned.Survived == 1][\"Age\"]\n",
    "survivor_mean_age = np.mean(age_for_survivors)\n",
    "age_for_nonsurvivors= df_age_cleaned[df_age_cleaned.Survived == 0][\"Age\"]\n",
    "nonsurvivor_mean_age = np.mean(age_for_nonsurvivors)"
   ]
  },
  {
   "cell_type": "code",
   "execution_count": 55,
   "metadata": {
    "collapsed": false
   },
   "outputs": [
    {
     "name": "stdout",
     "output_type": "stream",
     "text": [
      "mean age for survivors: 28.1932986111\n",
      "Mean age for nonsurvivors: 30.6261792453\n"
     ]
    }
   ],
   "source": [
    "print \"mean age for survivors: {0}\\nMean age for nonsurvivors: {1}\".format(survivor_mean_age,nonsurvivor_mean_age)"
   ]
  },
  {
   "cell_type": "code",
   "execution_count": 56,
   "metadata": {
    "collapsed": false
   },
   "outputs": [
    {
     "name": "stdout",
     "output_type": "stream",
     "text": [
      "Mann-Whitney Test Statistic: 56961.0\n",
      "p-Value: 0.128371888363\n"
     ]
    }
   ],
   "source": [
    "[U,p] = sp.mannwhitneyu(age_for_survivors,age_for_nonsurvivors)\n",
    "print \"Mann-Whitney Test Statistic: {0}\\np-Value: {1}\".format(U, p)"
   ]
  },
  {
   "cell_type": "markdown",
   "metadata": {},
   "source": [
    "The two tailed p-value is ~ 0.256 i.e. greater than the alpha level of 0.05. Hence we reject the alternate hypothesis. This indicate that there is no statistically significant difference in distributions of Age for Survivors & Non-survivors or age has no significant influence on survival of the passengers. "
   ]
  },
  {
   "cell_type": "markdown",
   "metadata": {},
   "source": [
    "### Q2 : Did women and children have greater chance of survival irrespective of other factors i.e.  Class or place of Embarkment?"
   ]
  },
  {
   "cell_type": "markdown",
   "metadata": {},
   "source": [
    "#### As there is no classification for child in the dataset, we will consider Age < 18 years as child and create a new column for the same."
   ]
  },
  {
   "cell_type": "code",
   "execution_count": 57,
   "metadata": {
    "collapsed": false
   },
   "outputs": [],
   "source": [
    "def male_female_child(passenger):\n",
    "    Age,Sex = passenger\n",
    "    if (Age < 18):\n",
    "        return 'child'\n",
    "    else:\n",
    "        return Sex"
   ]
  },
  {
   "cell_type": "code",
   "execution_count": 58,
   "metadata": {
    "collapsed": true
   },
   "outputs": [],
   "source": [
    "df['People'] = df[['Age','Sex']].apply(male_female_child, axis=1)"
   ]
  },
  {
   "cell_type": "code",
   "execution_count": 59,
   "metadata": {
    "collapsed": false
   },
   "outputs": [
    {
     "data": {
      "text/html": [
       "<div>\n",
       "<table border=\"1\" class=\"dataframe\">\n",
       "  <thead>\n",
       "    <tr style=\"text-align: right;\">\n",
       "      <th></th>\n",
       "      <th>Survived</th>\n",
       "      <th>Pclass</th>\n",
       "      <th>Sex</th>\n",
       "      <th>Age</th>\n",
       "      <th>SibSp</th>\n",
       "      <th>Parch</th>\n",
       "      <th>Fare</th>\n",
       "      <th>Embarked</th>\n",
       "      <th>People</th>\n",
       "    </tr>\n",
       "  </thead>\n",
       "  <tbody>\n",
       "    <tr>\n",
       "      <th>0</th>\n",
       "      <td>0</td>\n",
       "      <td>Class3</td>\n",
       "      <td>male</td>\n",
       "      <td>22.0</td>\n",
       "      <td>1</td>\n",
       "      <td>0</td>\n",
       "      <td>7.2500</td>\n",
       "      <td>S</td>\n",
       "      <td>male</td>\n",
       "    </tr>\n",
       "    <tr>\n",
       "      <th>1</th>\n",
       "      <td>1</td>\n",
       "      <td>Class1</td>\n",
       "      <td>female</td>\n",
       "      <td>38.0</td>\n",
       "      <td>1</td>\n",
       "      <td>0</td>\n",
       "      <td>71.2833</td>\n",
       "      <td>C</td>\n",
       "      <td>female</td>\n",
       "    </tr>\n",
       "    <tr>\n",
       "      <th>2</th>\n",
       "      <td>1</td>\n",
       "      <td>Class3</td>\n",
       "      <td>female</td>\n",
       "      <td>26.0</td>\n",
       "      <td>0</td>\n",
       "      <td>0</td>\n",
       "      <td>7.9250</td>\n",
       "      <td>S</td>\n",
       "      <td>female</td>\n",
       "    </tr>\n",
       "    <tr>\n",
       "      <th>3</th>\n",
       "      <td>1</td>\n",
       "      <td>Class1</td>\n",
       "      <td>female</td>\n",
       "      <td>35.0</td>\n",
       "      <td>1</td>\n",
       "      <td>0</td>\n",
       "      <td>53.1000</td>\n",
       "      <td>S</td>\n",
       "      <td>female</td>\n",
       "    </tr>\n",
       "    <tr>\n",
       "      <th>4</th>\n",
       "      <td>0</td>\n",
       "      <td>Class3</td>\n",
       "      <td>male</td>\n",
       "      <td>35.0</td>\n",
       "      <td>0</td>\n",
       "      <td>0</td>\n",
       "      <td>8.0500</td>\n",
       "      <td>S</td>\n",
       "      <td>male</td>\n",
       "    </tr>\n",
       "  </tbody>\n",
       "</table>\n",
       "</div>"
      ],
      "text/plain": [
       "   Survived  Pclass     Sex   Age  SibSp  Parch     Fare Embarked  People\n",
       "0         0  Class3    male  22.0      1      0   7.2500        S    male\n",
       "1         1  Class1  female  38.0      1      0  71.2833        C  female\n",
       "2         1  Class3  female  26.0      0      0   7.9250        S  female\n",
       "3         1  Class1  female  35.0      1      0  53.1000        S  female\n",
       "4         0  Class3    male  35.0      0      0   8.0500        S    male"
      ]
     },
     "execution_count": 59,
     "metadata": {},
     "output_type": "execute_result"
    }
   ],
   "source": [
    "df.head()"
   ]
  },
  {
   "cell_type": "code",
   "execution_count": 60,
   "metadata": {
    "collapsed": false
   },
   "outputs": [
    {
     "data": {
      "text/plain": [
       "Pclass  People\n",
       "Class1  child     0.916667\n",
       "        female    0.976744\n",
       "        male      0.347458\n",
       "Class2  child     0.913043\n",
       "        female    0.906250\n",
       "        male      0.082474\n",
       "Class3  child     0.371795\n",
       "        female    0.486239\n",
       "        male      0.121711\n",
       "Name: Survived, dtype: float64"
      ]
     },
     "execution_count": 60,
     "metadata": {},
     "output_type": "execute_result"
    }
   ],
   "source": [
    "df.groupby(['Pclass','People']).mean()['Survived']"
   ]
  },
  {
   "cell_type": "code",
   "execution_count": 61,
   "metadata": {
    "collapsed": false
   },
   "outputs": [
    {
     "data": {
      "text/plain": [
       "<matplotlib.text.Text at 0xd15df98>"
      ]
     },
     "execution_count": 61,
     "metadata": {},
     "output_type": "execute_result"
    },
    {
     "data": {
      "image/png": "[encoded data removed]",
      "text/plain": [
       "<matplotlib.figure.Figure at 0xcf827f0>"
      ]
     },
     "metadata": {},
     "output_type": "display_data"
    }
   ],
   "source": [
    "sns.factorplot(x=\"People\", y=\"Survived\", hue=\"Pclass\",kind='bar', data=df)\n",
    "sns.plt.title(\"Survival Rate Peoplewise in All Three Classes\")\n",
    "plt.ylabel(\"Survival Rate\")"
   ]
  },
  {
   "cell_type": "markdown",
   "metadata": {},
   "source": [
    "The above Statistics indicates that children & females had greater percentage of survival irrespective of Pclass compared to males. The same has been represented in factorplot above. "
   ]
  },
  {
   "cell_type": "code",
   "execution_count": 62,
   "metadata": {
    "collapsed": false
   },
   "outputs": [
    {
     "data": {
      "text/plain": [
       "Embarked  People\n",
       "C         child     0.750000\n",
       "          female    0.892857\n",
       "          male      0.284091\n",
       "Q         child     0.428571\n",
       "          female    0.727273\n",
       "          male      0.081081\n",
       "S         child     0.487805\n",
       "          female    0.711765\n",
       "          male      0.147208\n",
       "Name: Survived, dtype: float64"
      ]
     },
     "execution_count": 62,
     "metadata": {},
     "output_type": "execute_result"
    }
   ],
   "source": [
    "df.groupby(['Embarked','People']).mean()['Survived']"
   ]
  },
  {
   "cell_type": "code",
   "execution_count": 63,
   "metadata": {
    "collapsed": false
   },
   "outputs": [
    {
     "data": {
      "text/plain": [
       "<matplotlib.text.Text at 0xd5b0be0>"
      ]
     },
     "execution_count": 63,
     "metadata": {},
     "output_type": "execute_result"
    },
    {
     "data": {
      "image/png": "[encoded data removed]",
      "text/plain": [
       "<matplotlib.figure.Figure at 0xd13b978>"
      ]
     },
     "metadata": {},
     "output_type": "display_data"
    }
   ],
   "source": [
    "sns.factorplot(x=\"People\", y=\"Survived\",kind='bar',hue=\"Embarked\", data=df)\n",
    "sns.plt.title(\"Survival Rate Peoplewise in All Three Ports\")\n",
    "plt.ylabel(\"Survival Rate\")"
   ]
  },
  {
   "cell_type": "markdown",
   "metadata": {},
   "source": [
    "The above Statistics indicates that children & females had greater percentage of survival irrespective of Port of Embarkment compared to males. The same has been represented in factorplot above. "
   ]
  },
  {
   "cell_type": "markdown",
   "metadata": {
    "collapsed": true
   },
   "source": [
    "###### The Statistics, factorplots shown above indicates that the female & children have greater probability of survival irrespective of Class & station of embarkment."
   ]
  },
  {
   "cell_type": "markdown",
   "metadata": {},
   "source": [
    "### Q3 : Were the Socio-economic status (SES) a factor effecting the survival rate?"
   ]
  },
  {
   "cell_type": "markdown",
   "metadata": {},
   "source": [
    "Lets create a seperate dataframe for Survivors"
   ]
  },
  {
   "cell_type": "code",
   "execution_count": 64,
   "metadata": {
    "collapsed": true
   },
   "outputs": [],
   "source": [
    "df_survived = df[df.Survived == 1]"
   ]
  },
  {
   "cell_type": "code",
   "execution_count": 65,
   "metadata": {
    "collapsed": false
   },
   "outputs": [
    {
     "data": {
      "text/plain": [
       "Pclass\n",
       "Class1    136\n",
       "Class2     87\n",
       "Class3    119\n",
       "dtype: int64"
      ]
     },
     "execution_count": 65,
     "metadata": {},
     "output_type": "execute_result"
    }
   ],
   "source": [
    "df_survived.groupby('Pclass').size()"
   ]
  },
  {
   "cell_type": "markdown",
   "metadata": {},
   "source": [
    "The above statistics shows that the No. of survivors is maximum in Class 1 and minimum in Class 2. Class 3 lags behind with a very close margin from Class 1. However in the earlier data we have already seen that the No. of passengers boarded in class 3 was huge (491) hence we must calculate the rate of survivals to get a clear picture. The countplot shown below represents the same statistics calculated above."
   ]
  },
  {
   "cell_type": "code",
   "execution_count": 66,
   "metadata": {
    "collapsed": false
   },
   "outputs": [
    {
     "data": {
      "text/plain": [
       "<matplotlib.text.Text at 0xd901198>"
      ]
     },
     "execution_count": 66,
     "metadata": {},
     "output_type": "execute_result"
    },
    {
     "data": {
      "image/png": "[encoded data removed]",
      "text/plain": [
       "<matplotlib.figure.Figure at 0xbb8beb8>"
      ]
     },
     "metadata": {},
     "output_type": "display_data"
    }
   ],
   "source": [
    "sns.countplot(x=\"Pclass\",data=df_survived)\n",
    "sns.plt.title(\"Countplot of Survivors in Various Passenger Class\")"
   ]
  },
  {
   "cell_type": "code",
   "execution_count": 67,
   "metadata": {
    "collapsed": false
   },
   "outputs": [
    {
     "data": {
      "text/plain": [
       "Pclass\n",
       "Class1    0.629630\n",
       "Class2    0.472826\n",
       "Class3    0.242363\n",
       "Name: Survived, dtype: float64"
      ]
     },
     "execution_count": 67,
     "metadata": {},
     "output_type": "execute_result"
    }
   ],
   "source": [
    "df.groupby(['Pclass']).mean()['Survived']"
   ]
  },
  {
   "cell_type": "markdown",
   "metadata": {},
   "source": [
    "The above statistics shows that Survival rate in Class 1 was highest.\n",
    "1. Class 1 - survival rate: 62.96%\n",
    "2. Class 2 - survival rate: 47.28%\n",
    "3. Class 3 - survival rate: 24.23%"
   ]
  },
  {
   "cell_type": "code",
   "execution_count": 68,
   "metadata": {
    "collapsed": false
   },
   "outputs": [
    {
     "data": {
      "text/plain": [
       "<matplotlib.text.Text at 0xd9c5940>"
      ]
     },
     "execution_count": 68,
     "metadata": {},
     "output_type": "execute_result"
    },
    {
     "data": {
      "image/png": "[encoded data removed]",
      "text/plain": [
       "<matplotlib.figure.Figure at 0xcfc1470>"
      ]
     },
     "metadata": {},
     "output_type": "display_data"
    }
   ],
   "source": [
    "sns.factorplot(x=\"Pclass\", y=\"Survived\", kind='bar', data=df)\n",
    "sns.plt.title(\"Survival Rates in Various Classes\")\n",
    "plt.ylabel(\"Survival Rates\")"
   ]
  },
  {
   "cell_type": "markdown",
   "metadata": {},
   "source": [
    "The above factorplot represents the same information calculated from the statistics that Survival rate in Class 1 was highest and in class 3 it was lowest."
   ]
  },
  {
   "cell_type": "code",
   "execution_count": 69,
   "metadata": {
    "collapsed": false
   },
   "outputs": [
    {
     "data": {
      "text/plain": [
       "Pclass  Sex   \n",
       "Class1  female    0.968085\n",
       "        male      0.368852\n",
       "Class2  female    0.921053\n",
       "        male      0.157407\n",
       "Class3  female    0.500000\n",
       "        male      0.135447\n",
       "Name: Survived, dtype: float64"
      ]
     },
     "execution_count": 69,
     "metadata": {},
     "output_type": "execute_result"
    }
   ],
   "source": [
    "df.groupby(['Pclass', 'Sex']).mean()['Survived']"
   ]
  },
  {
   "cell_type": "markdown",
   "metadata": {},
   "source": [
    "The above statistics shows the sexwise survival rates in various classes. This also indicates that irrespective of sex survival rate in class 1 was maximum and Class 3 was minimum.\n",
    "1. Class 1 - female survival rate: 96.81%\n",
    "2. Class 1 - male survival rate: 36.89%\n",
    "3. Class 2 - female survival rate: 92.11%\n",
    "4. Class 2 - male survival rate: 15.74%\n",
    "5. Class 3 - female survival rate: 50.0%\n",
    "6. Class 3 - male survival rate: 13.54%"
   ]
  },
  {
   "cell_type": "code",
   "execution_count": 70,
   "metadata": {
    "collapsed": false
   },
   "outputs": [
    {
     "data": {
      "text/plain": [
       "<matplotlib.text.Text at 0xb48d1d0>"
      ]
     },
     "execution_count": 70,
     "metadata": {},
     "output_type": "execute_result"
    },
    {
     "data": {
      "image/png": "[encoded data removed]",
      "text/plain": [
       "<matplotlib.figure.Figure at 0xd5ba128>"
      ]
     },
     "metadata": {},
     "output_type": "display_data"
    }
   ],
   "source": [
    "sns.factorplot(x=\"Pclass\", y=\"Survived\", hue = 'Sex', kind='bar', data=df)\n",
    "sns.plt.title(\"Survival Rates in Various Classes & Sex\")\n",
    "plt.ylabel(\"Survival Rates\")"
   ]
  },
  {
   "cell_type": "markdown",
   "metadata": {},
   "source": [
    "The same has been represented in the above bar plot."
   ]
  },
  {
   "cell_type": "markdown",
   "metadata": {},
   "source": [
    " Based on the absolute numbers calculated above the No. of passengers survived in class1 and class3 are almost identical, however comparing the rate of survival in each class we can see that class 1 has the highest survival rate of approx 63% whereas survival rate in class 3 is lowest at around 24% only. As the passenger class represents the socio - economical status of a  passanger it seems that SES was a factor."
   ]
  },
  {
   "cell_type": "markdown",
   "metadata": {},
   "source": [
    "#### To test this we will take the help of hypothesis testing.\n",
    "The hypothesis for this question is that the social class does impact the chances of survival\n",
    "1. H0 = Social Class has no impact on survivability -> Null Hypothesis\n",
    "2. HA = Social Class does impact the chances of survivability -> Alternate Hypothesis"
   ]
  },
  {
   "cell_type": "code",
   "execution_count": 71,
   "metadata": {
    "collapsed": false
   },
   "outputs": [],
   "source": [
    "obs = pd.crosstab(df['Survived'],df['Pclass'])"
   ]
  },
  {
   "cell_type": "markdown",
   "metadata": {},
   "source": [
    "The Chi-Square test of Independence is used to determine if there is a significant relationship between two nominal (categorical) variables.  The frequency of one nominal variable is compared with different values of the second nominal variable. Here we will use the same to test the hypothesis."
   ]
  },
  {
   "cell_type": "code",
   "execution_count": 72,
   "metadata": {
    "collapsed": true
   },
   "outputs": [],
   "source": [
    "[chi2, p, dof, ex] = sp.chi2_contingency(obs.values)"
   ]
  },
  {
   "cell_type": "code",
   "execution_count": 73,
   "metadata": {
    "collapsed": false
   },
   "outputs": [
    {
     "name": "stdout",
     "output_type": "stream",
     "text": [
      "Chi-Squared Statistic: 102.888988757\n",
      "p-Value: 4.5492517113e-23\n"
     ]
    }
   ],
   "source": [
    "print \"Chi-Squared Statistic: {0}\\np-Value: {1}\".format(chi2, p)"
   ]
  },
  {
   "cell_type": "markdown",
   "metadata": {},
   "source": [
    "As expected, given the extremely low p-value , the test result detects a significant relationship between the variables i.e. we can reject Null hypothesis and can say that SES does impact the chance of survival."
   ]
  },
  {
   "cell_type": "markdown",
   "metadata": {},
   "source": [
    "### Q4: Were the station of embarkment a factor effecting the survival rate?"
   ]
  },
  {
   "cell_type": "code",
   "execution_count": 74,
   "metadata": {
    "collapsed": false
   },
   "outputs": [
    {
     "data": {
      "text/plain": [
       "Embarked\n",
       "C     93\n",
       "Q     30\n",
       "S    219\n",
       "dtype: int64"
      ]
     },
     "execution_count": 74,
     "metadata": {},
     "output_type": "execute_result"
    }
   ],
   "source": [
    "df_survived.groupby('Embarked').size()"
   ]
  },
  {
   "cell_type": "markdown",
   "metadata": {},
   "source": [
    "The above statistics shows that the No. of survivors is maximum in station S and minimum in Station Q. However in the earlier data we have already seen that the No. of passengers boarded in port S was huge (>600) hence we must calculate the rate of survivals to get a clear picture. The countplot shown below represents the same statistics calculated above."
   ]
  },
  {
   "cell_type": "code",
   "execution_count": 75,
   "metadata": {
    "collapsed": false
   },
   "outputs": [
    {
     "data": {
      "text/plain": [
       "<matplotlib.text.Text at 0xb2cc3c8>"
      ]
     },
     "execution_count": 75,
     "metadata": {},
     "output_type": "execute_result"
    },
    {
     "data": {
      "image/png": "[encoded data removed]",
      "text/plain": [
       "<matplotlib.figure.Figure at 0xd9ea4e0>"
      ]
     },
     "metadata": {},
     "output_type": "display_data"
    }
   ],
   "source": [
    "sns.countplot(x=\"Embarked\",data=df_survived)\n",
    "sns.plt.title(\"Countplot of Survivors in Various Port of Embarkment\")"
   ]
  },
  {
   "cell_type": "code",
   "execution_count": 76,
   "metadata": {
    "collapsed": false
   },
   "outputs": [
    {
     "data": {
      "text/plain": [
       "Embarked\n",
       "C    0.553571\n",
       "Q    0.389610\n",
       "S    0.339009\n",
       "Name: Survived, dtype: float64"
      ]
     },
     "execution_count": 76,
     "metadata": {},
     "output_type": "execute_result"
    }
   ],
   "source": [
    "df.groupby(['Embarked']).mean()['Survived']"
   ]
  },
  {
   "cell_type": "markdown",
   "metadata": {},
   "source": [
    "The above statistics shows that Survival rate in Port C was highest.\n",
    "1. Port C - survival rate: 55.35%\n",
    "2. Port Q - survival rate: 38.96%\n",
    "3. Port S - survival rate: 33.90%"
   ]
  },
  {
   "cell_type": "code",
   "execution_count": 77,
   "metadata": {
    "collapsed": false
   },
   "outputs": [
    {
     "data": {
      "text/plain": [
       "<matplotlib.text.Text at 0xce033c8>"
      ]
     },
     "execution_count": 77,
     "metadata": {},
     "output_type": "execute_result"
    },
    {
     "data": {
      "image/png": "[encoded data removed]",
      "text/plain": [
       "<matplotlib.figure.Figure at 0xa62d470>"
      ]
     },
     "metadata": {},
     "output_type": "display_data"
    }
   ],
   "source": [
    "sns.factorplot(x=\"Embarked\", y=\"Survived\", kind='bar', data=df)\n",
    "sns.plt.title(\"Survival Rates in Various Port of Embarkment\")\n",
    "plt.ylabel(\"Survival Rates\")"
   ]
  },
  {
   "cell_type": "markdown",
   "metadata": {},
   "source": [
    "The above factorplot represents the same information calculated from the statistics that Survival rate in port C was highest and in port S it was lowest."
   ]
  },
  {
   "cell_type": "code",
   "execution_count": 78,
   "metadata": {
    "collapsed": false
   },
   "outputs": [
    {
     "data": {
      "text/plain": [
       "Embarked  Sex   \n",
       "C         female    0.876712\n",
       "          male      0.305263\n",
       "Q         female    0.750000\n",
       "          male      0.073171\n",
       "S         female    0.692683\n",
       "          male      0.174603\n",
       "Name: Survived, dtype: float64"
      ]
     },
     "execution_count": 78,
     "metadata": {},
     "output_type": "execute_result"
    }
   ],
   "source": [
    "df.groupby(['Embarked', 'Sex']).mean()['Survived']"
   ]
  },
  {
   "cell_type": "markdown",
   "metadata": {},
   "source": [
    "The above statistics shows the sexwise survival rates in various ports. This also indicates that irrespective of sex survival rate in port C was maximum and port S was minimum.\n",
    "1. Port C - female survival rate: 87.67%\n",
    "2. Port C - male survival rate: 30.52%\n",
    "3. Port Q - female survival rate: 75%\n",
    "4. Port Q - male survival rate: 07.32%\n",
    "5. Port S - female survival rate: 69.27%\n",
    "6. Port S - male survival rate: 17.46%"
   ]
  },
  {
   "cell_type": "code",
   "execution_count": 79,
   "metadata": {
    "collapsed": false
   },
   "outputs": [
    {
     "data": {
      "text/plain": [
       "<matplotlib.text.Text at 0xddc57f0>"
      ]
     },
     "execution_count": 79,
     "metadata": {},
     "output_type": "execute_result"
    },
    {
     "data": {
      "image/png": "[encoded data removed]",
      "text/plain": [
       "<matplotlib.figure.Figure at 0xa12f588>"
      ]
     },
     "metadata": {},
     "output_type": "display_data"
    }
   ],
   "source": [
    "sns.factorplot(x=\"Embarked\", y=\"Survived\", hue = 'Sex', kind='bar', data=df)\n",
    "sns.plt.title(\"Survival Rate at Various Ports Genderwise\")\n",
    "plt.ylabel(\"Survival Rate\")"
   ]
  },
  {
   "cell_type": "markdown",
   "metadata": {},
   "source": [
    "The same has been represented in the above bar plot. The above results and plot shows a higher probability of overall survival for passengers embarked on station C and lowest overall survival probability for passengers embarked on station S."
   ]
  },
  {
   "cell_type": "markdown",
   "metadata": {},
   "source": [
    "Lets take help of hypothesis testing to come to the conclusion whether the port of embarkment effected the survival rates or not. Again we will take help of Chi-Squared test of independence to test the hypothesis.\n",
    "\n",
    "1. Null Hypothesis H0 -> Port of Embarkment has no impact on survival\n",
    "2. Alternate Hypothesis HA = Port of Embarkment does impact the chances of survival"
   ]
  },
  {
   "cell_type": "code",
   "execution_count": 80,
   "metadata": {
    "collapsed": false
   },
   "outputs": [
    {
     "name": "stdout",
     "output_type": "stream",
     "text": [
      "Chi-Squared Statistic: 25.9644528819\n",
      "p-Value: 2.30086264814e-06\n"
     ]
    }
   ],
   "source": [
    "obs = pd.crosstab(df['Survived'],df['Embarked'])\n",
    "[chi2, p, dof, ex] = sp.chi2_contingency(obs.values)\n",
    "print \"Chi-Squared Statistic: {0}\\np-Value: {1}\".format(chi2, p)"
   ]
  },
  {
   "cell_type": "markdown",
   "metadata": {},
   "source": [
    "As evident from the statistical analysis, given the extremely low p-value , the test result detects a significant relationship between the variables i.e. we can reject Null hypothesis and can say that port of embarkment does impact the chance of survival."
   ]
  },
  {
   "cell_type": "markdown",
   "metadata": {},
   "source": [
    "### Q5 : Were having family/relatives on board a factor effecting survival rates i.e. Did passengers with family or relatives have greater chance of survival than passenger without family??"
   ]
  },
  {
   "cell_type": "code",
   "execution_count": 81,
   "metadata": {
    "collapsed": false
   },
   "outputs": [
    {
     "data": {
      "text/html": [
       "<div>\n",
       "<table border=\"1\" class=\"dataframe\">\n",
       "  <thead>\n",
       "    <tr style=\"text-align: right;\">\n",
       "      <th></th>\n",
       "      <th>Survived</th>\n",
       "      <th>Pclass</th>\n",
       "      <th>Sex</th>\n",
       "      <th>Age</th>\n",
       "      <th>SibSp</th>\n",
       "      <th>Parch</th>\n",
       "      <th>Fare</th>\n",
       "      <th>Embarked</th>\n",
       "      <th>People</th>\n",
       "    </tr>\n",
       "  </thead>\n",
       "  <tbody>\n",
       "    <tr>\n",
       "      <th>0</th>\n",
       "      <td>0</td>\n",
       "      <td>Class3</td>\n",
       "      <td>male</td>\n",
       "      <td>22.0</td>\n",
       "      <td>1</td>\n",
       "      <td>0</td>\n",
       "      <td>7.2500</td>\n",
       "      <td>S</td>\n",
       "      <td>male</td>\n",
       "    </tr>\n",
       "    <tr>\n",
       "      <th>1</th>\n",
       "      <td>1</td>\n",
       "      <td>Class1</td>\n",
       "      <td>female</td>\n",
       "      <td>38.0</td>\n",
       "      <td>1</td>\n",
       "      <td>0</td>\n",
       "      <td>71.2833</td>\n",
       "      <td>C</td>\n",
       "      <td>female</td>\n",
       "    </tr>\n",
       "    <tr>\n",
       "      <th>2</th>\n",
       "      <td>1</td>\n",
       "      <td>Class3</td>\n",
       "      <td>female</td>\n",
       "      <td>26.0</td>\n",
       "      <td>0</td>\n",
       "      <td>0</td>\n",
       "      <td>7.9250</td>\n",
       "      <td>S</td>\n",
       "      <td>female</td>\n",
       "    </tr>\n",
       "    <tr>\n",
       "      <th>3</th>\n",
       "      <td>1</td>\n",
       "      <td>Class1</td>\n",
       "      <td>female</td>\n",
       "      <td>35.0</td>\n",
       "      <td>1</td>\n",
       "      <td>0</td>\n",
       "      <td>53.1000</td>\n",
       "      <td>S</td>\n",
       "      <td>female</td>\n",
       "    </tr>\n",
       "    <tr>\n",
       "      <th>4</th>\n",
       "      <td>0</td>\n",
       "      <td>Class3</td>\n",
       "      <td>male</td>\n",
       "      <td>35.0</td>\n",
       "      <td>0</td>\n",
       "      <td>0</td>\n",
       "      <td>8.0500</td>\n",
       "      <td>S</td>\n",
       "      <td>male</td>\n",
       "    </tr>\n",
       "  </tbody>\n",
       "</table>\n",
       "</div>"
      ],
      "text/plain": [
       "   Survived  Pclass     Sex   Age  SibSp  Parch     Fare Embarked  People\n",
       "0         0  Class3    male  22.0      1      0   7.2500        S    male\n",
       "1         1  Class1  female  38.0      1      0  71.2833        C  female\n",
       "2         1  Class3  female  26.0      0      0   7.9250        S  female\n",
       "3         1  Class1  female  35.0      1      0  53.1000        S  female\n",
       "4         0  Class3    male  35.0      0      0   8.0500        S    male"
      ]
     },
     "execution_count": 81,
     "metadata": {},
     "output_type": "execute_result"
    }
   ],
   "source": [
    "df.head()"
   ]
  },
  {
   "cell_type": "code",
   "execution_count": 82,
   "metadata": {
    "collapsed": true
   },
   "outputs": [],
   "source": [
    "def family_status(passenger):\n",
    "    SibSp, Parch = passenger\n",
    "    if (SibSp + Parch  > 0):\n",
    "        return 'yes'\n",
    "    else:\n",
    "        return 'No'"
   ]
  },
  {
   "cell_type": "code",
   "execution_count": 83,
   "metadata": {
    "collapsed": true
   },
   "outputs": [],
   "source": [
    "df['Family'] = df[['SibSp','Parch']].apply(family_status, axis=1)"
   ]
  },
  {
   "cell_type": "code",
   "execution_count": 84,
   "metadata": {
    "collapsed": false
   },
   "outputs": [
    {
     "data": {
      "text/html": [
       "<div>\n",
       "<table border=\"1\" class=\"dataframe\">\n",
       "  <thead>\n",
       "    <tr style=\"text-align: right;\">\n",
       "      <th></th>\n",
       "      <th>Survived</th>\n",
       "      <th>Pclass</th>\n",
       "      <th>Sex</th>\n",
       "      <th>Age</th>\n",
       "      <th>SibSp</th>\n",
       "      <th>Parch</th>\n",
       "      <th>Fare</th>\n",
       "      <th>Embarked</th>\n",
       "      <th>People</th>\n",
       "      <th>Family</th>\n",
       "    </tr>\n",
       "  </thead>\n",
       "  <tbody>\n",
       "    <tr>\n",
       "      <th>0</th>\n",
       "      <td>0</td>\n",
       "      <td>Class3</td>\n",
       "      <td>male</td>\n",
       "      <td>22.0</td>\n",
       "      <td>1</td>\n",
       "      <td>0</td>\n",
       "      <td>7.2500</td>\n",
       "      <td>S</td>\n",
       "      <td>male</td>\n",
       "      <td>yes</td>\n",
       "    </tr>\n",
       "    <tr>\n",
       "      <th>1</th>\n",
       "      <td>1</td>\n",
       "      <td>Class1</td>\n",
       "      <td>female</td>\n",
       "      <td>38.0</td>\n",
       "      <td>1</td>\n",
       "      <td>0</td>\n",
       "      <td>71.2833</td>\n",
       "      <td>C</td>\n",
       "      <td>female</td>\n",
       "      <td>yes</td>\n",
       "    </tr>\n",
       "    <tr>\n",
       "      <th>2</th>\n",
       "      <td>1</td>\n",
       "      <td>Class3</td>\n",
       "      <td>female</td>\n",
       "      <td>26.0</td>\n",
       "      <td>0</td>\n",
       "      <td>0</td>\n",
       "      <td>7.9250</td>\n",
       "      <td>S</td>\n",
       "      <td>female</td>\n",
       "      <td>No</td>\n",
       "    </tr>\n",
       "    <tr>\n",
       "      <th>3</th>\n",
       "      <td>1</td>\n",
       "      <td>Class1</td>\n",
       "      <td>female</td>\n",
       "      <td>35.0</td>\n",
       "      <td>1</td>\n",
       "      <td>0</td>\n",
       "      <td>53.1000</td>\n",
       "      <td>S</td>\n",
       "      <td>female</td>\n",
       "      <td>yes</td>\n",
       "    </tr>\n",
       "    <tr>\n",
       "      <th>4</th>\n",
       "      <td>0</td>\n",
       "      <td>Class3</td>\n",
       "      <td>male</td>\n",
       "      <td>35.0</td>\n",
       "      <td>0</td>\n",
       "      <td>0</td>\n",
       "      <td>8.0500</td>\n",
       "      <td>S</td>\n",
       "      <td>male</td>\n",
       "      <td>No</td>\n",
       "    </tr>\n",
       "  </tbody>\n",
       "</table>\n",
       "</div>"
      ],
      "text/plain": [
       "   Survived  Pclass     Sex   Age  SibSp  Parch     Fare Embarked  People  \\\n",
       "0         0  Class3    male  22.0      1      0   7.2500        S    male   \n",
       "1         1  Class1  female  38.0      1      0  71.2833        C  female   \n",
       "2         1  Class3  female  26.0      0      0   7.9250        S  female   \n",
       "3         1  Class1  female  35.0      1      0  53.1000        S  female   \n",
       "4         0  Class3    male  35.0      0      0   8.0500        S    male   \n",
       "\n",
       "  Family  \n",
       "0    yes  \n",
       "1    yes  \n",
       "2     No  \n",
       "3    yes  \n",
       "4     No  "
      ]
     },
     "execution_count": 84,
     "metadata": {},
     "output_type": "execute_result"
    }
   ],
   "source": [
    "df.head()"
   ]
  },
  {
   "cell_type": "code",
   "execution_count": 85,
   "metadata": {
    "collapsed": false
   },
   "outputs": [
    {
     "data": {
      "text/plain": [
       "Family  Survived\n",
       "No      0           374\n",
       "        1           163\n",
       "yes     0           175\n",
       "        1           179\n",
       "dtype: int64"
      ]
     },
     "execution_count": 85,
     "metadata": {},
     "output_type": "execute_result"
    }
   ],
   "source": [
    "df.groupby([\"Family\", \"Survived\"]).size()"
   ]
  },
  {
   "cell_type": "code",
   "execution_count": 86,
   "metadata": {
    "collapsed": false
   },
   "outputs": [
    {
     "data": {
      "text/plain": [
       "<matplotlib.text.Text at 0xe5b39b0>"
      ]
     },
     "execution_count": 86,
     "metadata": {},
     "output_type": "execute_result"
    },
    {
     "data": {
      "image/png": "[encoded data removed]",
      "text/plain": [
       "<matplotlib.figure.Figure at 0xddd1d68>"
      ]
     },
     "metadata": {},
     "output_type": "display_data"
    }
   ],
   "source": [
    "sns.factorplot(x=\"Family\", y=\"Survived\",kind='bar', data=df)\n",
    "sns.plt.title(\"Survival Rate of Family\")\n",
    "plt.ylabel(\"Survival Rate\")"
   ]
  },
  {
   "cell_type": "code",
   "execution_count": 87,
   "metadata": {
    "collapsed": false
   },
   "outputs": [
    {
     "data": {
      "text/plain": [
       "<matplotlib.text.Text at 0xddde908>"
      ]
     },
     "execution_count": 87,
     "metadata": {},
     "output_type": "execute_result"
    },
    {
     "data": {
      "image/png": "[encoded data removed]",
      "text/plain": [
       "<matplotlib.figure.Figure at 0xdde69b0>"
      ]
     },
     "metadata": {},
     "output_type": "display_data"
    }
   ],
   "source": [
    "sns.factorplot(x=\"Family\", y=\"Survived\",kind='bar', hue = \"Embarked\", data=df)\n",
    "sns.plt.title(\"Survival Rate of Family on Various Ports\")\n",
    "plt.ylabel(\"Survival Rate\")"
   ]
  },
  {
   "cell_type": "code",
   "execution_count": 88,
   "metadata": {
    "collapsed": false
   },
   "outputs": [
    {
     "data": {
      "text/plain": [
       "<matplotlib.text.Text at 0xe9688d0>"
      ]
     },
     "execution_count": 88,
     "metadata": {},
     "output_type": "execute_result"
    },
    {
     "data": {
      "image/png": "[encoded data removed]",
      "text/plain": [
       "<matplotlib.figure.Figure at 0xe57ff28>"
      ]
     },
     "metadata": {},
     "output_type": "display_data"
    }
   ],
   "source": [
    "sns.factorplot(x=\"Family\", y=\"Survived\",kind='bar', hue = \"Pclass\", data=df)\n",
    "sns.plt.title(\"Survival Rate of Family in Different Classes\")\n",
    "plt.ylabel(\"Survival Rate\")"
   ]
  },
  {
   "cell_type": "code",
   "execution_count": 89,
   "metadata": {
    "collapsed": false
   },
   "outputs": [
    {
     "name": "stdout",
     "output_type": "stream",
     "text": [
      "Chi-Squared Statistic: 36.0005144677\n",
      "p-Value: 1.97265438465e-09\n"
     ]
    }
   ],
   "source": [
    "obs = pd.crosstab(df['Survived'],df['Family'])\n",
    "[chi2, p, dof, ex] = sp.chi2_contingency(obs.values)\n",
    "print \"Chi-Squared Statistic: {0}\\np-Value: {1}\".format(chi2, p)"
   ]
  },
  {
   "cell_type": "markdown",
   "metadata": {},
   "source": [
    " Based on the absolute numbers calculated above the No. of passengers survived with family/relatives onboard and without family/relatives are almost identical, however comparing the rate of survival in each class we can tentatively say that passenger with family/relatives onboard has the higher chance of survival i.e. family/relative is also one of the factors effecting the chance of survival."
   ]
  },
  {
   "cell_type": "markdown",
   "metadata": {},
   "source": [
    "## Conclusions:"
   ]
  },
  {
   "cell_type": "markdown",
   "metadata": {},
   "source": [
    "As per the Kaggle website On April 15, 1912, during her maiden voyage, the Titanic sank after colliding with an iceberg, killing 1502 out of 2224 passengers and crew. Here we have taken a dataset of only 891 passengers. There was no information about the crew data in the dataset. Limiting to a smaller dataset can only predict the probability of survival. Also, we had a lot of missing data in the Age column, and we removed the passengers with missing age from our analysis related to age variable, it further reduced the sample size. This limitation might have a great deal of impact on analysis fo survival based on Age.\n",
    "\n",
    "Even though we were given many features of passengers in our data, we found that most of the features were not useful in classification. For example, the number of sibling/spouses and the number of parents/children did not help with classification.\n",
    "Knowing the number of relatives aboard did not help with classification, but perhaps, if we were given the links between passengers then we’d be able to infer more about the survival rate. Since family units tend to all die or all survive, knowing the family links would have been useful. \n",
    "\n",
    "Also Due to a lot of missing values in cabin data, the same was not useful for analysis and was ommitted from our analysis. However, a relevent cabin data would have given some useful correlations.  \n",
    "\n",
    "The results of the analysis, although tentative, would appear to indicate the following:\n",
    "\n",
    "1. _** Class, Sex & Port of Embarkment were factors effecting the survival. Being female with upper SES i.e. Class 1 & port of embarkment C would give the best chance of survival. ** _\n",
    "\n",
    "2. _**Age did not seem to be a major factor.**_\n",
    "\n",
    "3. _**Being a male in class 3 gave the lowest chance of survival. In general, Women & children across all classes were having higer survival rates men. **_\n",
    "\n",
    "4. _**However being a child or woman couldnot be considered as 100% survival chance.**_\n",
    "5. _ **passengers with family or relatives tend to have greater chance of survival than passenger without family/relatives onboard. **_"
   ]
  },
  {
   "cell_type": "markdown",
   "metadata": {},
   "source": [
    "## References:\n",
    "\n",
    "1. https://www.kaggle.com/c/titanic - Titanic : Machine Learning from Disater\n",
    "2. https://stanford.edu/~mwaskom/software/seaborn/tutorial.html - Seaborn Tutorials\n",
    "3. http://pandas.pydata.org/pandas-docs/stable/ - Pandas Documentation\n",
    "4. http://docs.scipy.org/doc/scipy/reference/generated/scipy.stats.mannwhitneyu.html\n",
    "5. https://statistics.laerd.com/premium-sample/mwut/mann-whitney-test-in-spss.php\n"
   ]
  }
 ],
 "metadata": {
  "kernelspec": {
   "display_name": "Python 2",
   "language": "python",
   "name": "python2"
  },
  "language_info": {
   "codemirror_mode": {
    "name": "ipython",
    "version": 2
   },
   "file_extension": ".py",
   "mimetype": "text/x-python",
   "name": "python",
   "nbconvert_exporter": "python",
   "pygments_lexer": "ipython2",
   "version": "2.7.11"
  }
 },
 "nbformat": 4,
 "nbformat_minor": 0
}
